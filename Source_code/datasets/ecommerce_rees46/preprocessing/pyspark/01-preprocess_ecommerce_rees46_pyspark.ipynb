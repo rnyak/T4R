{
 "cells": [
  {
   "cell_type": "markdown",
   "metadata": {},
   "source": [
    "### Script to create a Spark instance on NGC\n",
    "\n",
    "```\n",
    "ngc batch run --name \"gmoreira-jupyterlab\" --preempt RUNONCE --min-timeslice 0s --total-runtime 0s --ace nv-us-west-2 --instance dgx1v.16g.8.norm --commandline \"jupyter lab --ip=0.0.0.0 --allow-root --no-browser --NotebookApp.token='recsys' --notebook-dir=/ --NotebookApp.allow_origin='*' & date; sleep 200000h\" --result /mount/results --image \"nvidian/rapids/spark2_on_ngc_test\" --org nvidian --team prj-recsys --workspace gmoreira-wksp:/mount/workspace:RW --datasetid 62351:/mount/data/ecommerce_raw --port 6006 --port 7000 --port 8888\n",
    "```"
   ]
  },
  {
   "cell_type": "markdown",
   "metadata": {},
   "source": [
    "# Read, Parse, Process E-Commerce data on PySpark\n",
    "eCommerce dataset: https://www.kaggle.com/mkechinov/ecommerce-behavior-data-from-multi-category-store"
   ]
  },
  {
   "cell_type": "markdown",
   "metadata": {},
   "source": [
    "## Data Download from Kaggle"
   ]
  },
  {
   "cell_type": "code",
   "execution_count": 1,
   "metadata": {},
   "outputs": [
    {
     "name": "stdout",
     "output_type": "stream",
     "text": [
      "Collecting kaggle\n",
      "  Downloading kaggle-1.5.10.tar.gz (59 kB)\n",
      "\u001b[K     |████████████████████████████████| 59 kB 8.6 MB/s  eta 0:00:01\n",
      "\u001b[?25hRequirement already satisfied, skipping upgrade: six>=1.10 in /opt/conda/lib/python3.7/site-packages (from kaggle) (1.14.0)\n",
      "Requirement already satisfied, skipping upgrade: certifi in /opt/conda/lib/python3.7/site-packages (from kaggle) (2020.4.5.1)\n",
      "Requirement already satisfied, skipping upgrade: python-dateutil in /opt/conda/lib/python3.7/site-packages (from kaggle) (2.8.1)\n",
      "Requirement already satisfied, skipping upgrade: requests in /opt/conda/lib/python3.7/site-packages (from kaggle) (2.23.0)\n",
      "Requirement already satisfied, skipping upgrade: tqdm in /opt/conda/lib/python3.7/site-packages (from kaggle) (4.45.0)\n",
      "Collecting python-slugify\n",
      "  Downloading python-slugify-4.0.1.tar.gz (11 kB)\n",
      "Requirement already satisfied, skipping upgrade: urllib3 in /opt/conda/lib/python3.7/site-packages (from kaggle) (1.25.9)\n",
      "Requirement already satisfied, skipping upgrade: chardet<4,>=3.0.2 in /opt/conda/lib/python3.7/site-packages (from requests->kaggle) (3.0.4)\n",
      "Requirement already satisfied, skipping upgrade: idna<3,>=2.5 in /opt/conda/lib/python3.7/site-packages (from requests->kaggle) (2.9)\n",
      "Collecting text-unidecode>=1.3\n",
      "  Downloading text_unidecode-1.3-py2.py3-none-any.whl (78 kB)\n",
      "\u001b[K     |████████████████████████████████| 78 kB 11.2 MB/s eta 0:00:01\n",
      "\u001b[?25hBuilding wheels for collected packages: kaggle, python-slugify\n",
      "  Building wheel for kaggle (setup.py) ... \u001b[?25ldone\n",
      "\u001b[?25h  Created wheel for kaggle: filename=kaggle-1.5.10-py3-none-any.whl size=73269 sha256=084c829b6290fdcf6c96b77f1048d1c4e7b832e1b996ebe2ff5eae1ac6e5ecc5\n",
      "  Stored in directory: /home/jovyan/.cache/pip/wheels/ea/c5/fe/7e7fb5b3d1f150fac96188949b3d83d375a4c9df16ba557e52\n",
      "  Building wheel for python-slugify (setup.py) ... \u001b[?25ldone\n",
      "\u001b[?25h  Created wheel for python-slugify: filename=python_slugify-4.0.1-py2.py3-none-any.whl size=6767 sha256=660b8ac4542b8c65aea8d54ba947c67fd9f3de0d1bcc57ab829bad563ef7be63\n",
      "  Stored in directory: /home/jovyan/.cache/pip/wheels/48/1b/6f/5c1cfab22eacbe0095fc619786da6571b55253653c71324b5c\n",
      "Successfully built kaggle python-slugify\n",
      "Installing collected packages: text-unidecode, python-slugify, kaggle\n",
      "Successfully installed kaggle-1.5.10 python-slugify-4.0.1 text-unidecode-1.3\n"
     ]
    }
   ],
   "source": [
    "!pip install kaggle --upgrade"
   ]
  },
  {
   "cell_type": "code",
   "execution_count": 2,
   "metadata": {},
   "outputs": [
    {
     "name": "stdout",
     "output_type": "stream",
     "text": [
      "Downloading ecommerce-behavior-data-from-multi-category-store.zip to /home/jovyan/data\n",
      "100%|█████████████████████████████████████▉| 4.28G/4.29G [01:17<00:00, 49.2MB/s]\n",
      "100%|██████████████████████████████████████| 4.29G/4.29G [01:17<00:00, 59.6MB/s]\n",
      "Archive:  ecommerce-behavior-data-from-multi-category-store.zip\n",
      "  inflating: 2019-Nov.csv            \n",
      "  inflating: 2019-Oct.csv            \n"
     ]
    }
   ],
   "source": [
    "# NOTE: first to get kaggle api tiken from account page in Kaggle. Place it at ~/.kaggle/kaggle.json\n",
    "!mkdir -p ~/.kaggle/ && cp /mount/workspace/kaggle.json ~/.kaggle/ && chmod 600 ~/.kaggle/kaggle.json\n",
    "!mkdir -p ~/data\n",
    "!cd ~/data && kaggle datasets download mkechinov/ecommerce-behavior-data-from-multi-category-store\n",
    "!cd ~/data && unzip ecommerce-behavior-data-from-multi-category-store.zip"
   ]
  },
  {
   "cell_type": "markdown",
   "metadata": {},
   "source": [
    "### Downloading additional months from Google Drive"
   ]
  },
  {
   "cell_type": "code",
   "execution_count": 10,
   "metadata": {},
   "outputs": [
    {
     "name": "stdout",
     "output_type": "stream",
     "text": [
      "Requirement already satisfied: gdown in /opt/conda/lib/python3.7/site-packages (3.12.2)\n",
      "Requirement already satisfied: requests[socks] in /opt/conda/lib/python3.7/site-packages (from gdown) (2.23.0)\n",
      "Requirement already satisfied: tqdm in /opt/conda/lib/python3.7/site-packages (from gdown) (4.45.0)\n",
      "Requirement already satisfied: filelock in /opt/conda/lib/python3.7/site-packages (from gdown) (3.0.12)\n",
      "Requirement already satisfied: six in /opt/conda/lib/python3.7/site-packages (from gdown) (1.14.0)\n",
      "Requirement already satisfied: urllib3!=1.25.0,!=1.25.1,<1.26,>=1.21.1 in /opt/conda/lib/python3.7/site-packages (from requests[socks]->gdown) (1.25.9)\n",
      "Requirement already satisfied: certifi>=2017.4.17 in /opt/conda/lib/python3.7/site-packages (from requests[socks]->gdown) (2020.4.5.1)\n",
      "Requirement already satisfied: chardet<4,>=3.0.2 in /opt/conda/lib/python3.7/site-packages (from requests[socks]->gdown) (3.0.4)\n",
      "Requirement already satisfied: idna<3,>=2.5 in /opt/conda/lib/python3.7/site-packages (from requests[socks]->gdown) (2.9)\n",
      "Requirement already satisfied: PySocks!=1.5.7,>=1.5.6; extra == \"socks\" in /opt/conda/lib/python3.7/site-packages (from requests[socks]->gdown) (1.7.1)\n"
     ]
    }
   ],
   "source": [
    "!pip install gdown\n",
    "!cd ~/data "
   ]
  },
  {
   "cell_type": "code",
   "execution_count": 11,
   "metadata": {},
   "outputs": [
    {
     "name": "stdout",
     "output_type": "stream",
     "text": [
      "Downloading...\n",
      "From: https://drive.google.com/uc?id=1qZIwMbMgMmgDC5EoMdJ8aI9lQPsWA3-P\n",
      "To: /home/jovyan/data/2019-Dec.csv.gz\n",
      "2.95GB [00:51, 57.0MB/s]\n",
      "Unziping\n"
     ]
    }
   ],
   "source": [
    "!cd ~/data && gdown https://drive.google.com/uc?id=1qZIwMbMgMmgDC5EoMdJ8aI9lQPsWA3-P\n",
    "!cd ~/data && echo \"Unziping\" && gunzip 2019-Dec.csv.gz"
   ]
  },
  {
   "cell_type": "code",
   "execution_count": 12,
   "metadata": {},
   "outputs": [
    {
     "name": "stdout",
     "output_type": "stream",
     "text": [
      "Downloading...\n",
      "From: https://drive.google.com/uc?id=1x5ohrrZNhWQN4Q-zww0RmXOwctKHH9PT\n",
      "To: /home/jovyan/data/2020-Jan.csv.gz\n",
      "2.39GB [00:48, 49.5MB/s]\n",
      "Unziping\n"
     ]
    }
   ],
   "source": [
    "!cd ~/data && gdown https://drive.google.com/uc?id=1x5ohrrZNhWQN4Q-zww0RmXOwctKHH9PT\n",
    "!cd ~/data && echo \"Unziping\" && gunzip 2020-Jan.csv.gz"
   ]
  },
  {
   "cell_type": "code",
   "execution_count": 13,
   "metadata": {},
   "outputs": [
    {
     "name": "stdout",
     "output_type": "stream",
     "text": [
      "Downloading...\n",
      "From: https://drive.google.com/uc?id=1-Rov9fFtGJqb7_ePc6qH-Rhzxn0cIcKB\n",
      "To: /home/jovyan/data/2020-Feb.csv.gz\n",
      "2.35GB [00:37, 62.0MB/s]\n",
      "Unziping\n"
     ]
    }
   ],
   "source": [
    "!cd ~/data && gdown https://drive.google.com/uc?id=1-Rov9fFtGJqb7_ePc6qH-Rhzxn0cIcKB\n",
    "!cd ~/data && echo \"Unziping\" && gunzip 2020-Feb.csv.gz"
   ]
  },
  {
   "cell_type": "code",
   "execution_count": 14,
   "metadata": {},
   "outputs": [
    {
     "name": "stdout",
     "output_type": "stream",
     "text": [
      "Downloading...\n",
      "From: https://drive.google.com/uc?id=1zr_RXpGvOWN2PrWI6itWL8HnRsCpyqz8\n",
      "To: /home/jovyan/data/2020-Mar.csv.gz\n",
      "2.42GB [00:27, 88.8MB/s]\n",
      "Unziping\n"
     ]
    }
   ],
   "source": [
    "!cd ~/data && gdown https://drive.google.com/uc?id=1zr_RXpGvOWN2PrWI6itWL8HnRsCpyqz8\n",
    "!cd ~/data && echo \"Unziping\" && gunzip 2020-Mar.csv.gz"
   ]
  },
  {
   "cell_type": "code",
   "execution_count": 15,
   "metadata": {},
   "outputs": [
    {
     "name": "stdout",
     "output_type": "stream",
     "text": [
      "Downloading...\n",
      "From: https://drive.google.com/uc?id=1g5WoIgLe05UMdREbxAjh0bEFgVCjA1UL\n",
      "To: /home/jovyan/data/2020-Apr.csv.gz\n",
      "2.93GB [00:55, 53.0MB/s]\n",
      "Unziping\n"
     ]
    }
   ],
   "source": [
    "!cd ~/data && gdown https://drive.google.com/uc?id=1g5WoIgLe05UMdREbxAjh0bEFgVCjA1UL\n",
    "!cd ~/data && echo \"Unziping\" && gunzip 2020-Apr.csv.gz"
   ]
  },
  {
   "cell_type": "markdown",
   "metadata": {},
   "source": [
    "## Configurations"
   ]
  },
  {
   "cell_type": "code",
   "execution_count": 79,
   "metadata": {},
   "outputs": [],
   "source": [
    "NUM_MONTHS_TO_PREPROCESS = 1 #For the eCommerce dataset there are up to 7 months (2019-Oct to 2020-Apr)\n",
    "KEEP_REPEATED_USER_INTERACTIONS = False"
   ]
  },
  {
   "cell_type": "markdown",
   "metadata": {},
   "source": [
    "## Setup Spark"
   ]
  },
  {
   "cell_type": "code",
   "execution_count": 4,
   "metadata": {},
   "outputs": [],
   "source": [
    "import os"
   ]
  },
  {
   "cell_type": "code",
   "execution_count": 5,
   "metadata": {},
   "outputs": [],
   "source": [
    "import pyspark\n",
    "import pyspark.sql.functions as F\n",
    "from pyspark.sql.functions import udf\n",
    "from pyspark.ml.evaluation import BinaryClassificationEvaluator\n",
    "from pyspark.sql.types import *\n",
    "from pyspark.ml.recommendation import ALS\n",
    "from pyspark.sql import Window\n",
    "from pyspark.ml.linalg import Vectors, Vector, DenseVector, SparseVector, VectorUDT\n",
    "from pyspark.ml.stat import Summarizer"
   ]
  },
  {
   "cell_type": "code",
   "execution_count": 6,
   "metadata": {},
   "outputs": [],
   "source": [
    "from pyspark.sql import SparkSession\n",
    "\n",
    "# Setup for 400GB Mem machine\n",
    "config = pyspark.SparkConf().setAll([('spark.executor.memory', '350g'),\n",
    "                                     ('spark.executor.instances', '1'),\n",
    "                                     ('spark.cores.max', '64'),\n",
    "                                     #('spark.cores.max', '3'),\n",
    "                                     ('spark.executor.cores', '64'),\n",
    "                                     ('spark.driver.memory','30g')\n",
    "                                    ])\n",
    "spark = SparkSession.builder.config(conf=config).appName(\"JobName\").getOrCreate()\n",
    "\n",
    "# Setup for 200GB Mem machine\n",
    "# config = pyspark.SparkConf().setAll([('spark.executor.cores', '4'),\n",
    "#                                      ('spark.executor.instances', '2'),\n",
    "#                                      ('spark.executor.memory', '12g'), \n",
    "#                                      ('spark.executor.memoryOverhead', '2g'), \n",
    "#                                      #('spark.driver.cores', '4'),\n",
    "#                                      #('spark.driver.memory', '12g'),\n",
    "#                                      ('spark.dynamicAllocation.enabled', 'false'),\n",
    "#                                      ('spark.io.compression.codec', 'snappy')\n",
    "#                                     ])\n",
    "\n",
    "# spark = SparkSession.builder.config(conf=config).appName(\"Recsys-Transformer-Research\").getOrCreate()"
   ]
  },
  {
   "cell_type": "markdown",
   "metadata": {},
   "source": [
    "## Read Data"
   ]
  },
  {
   "cell_type": "code",
   "execution_count": 7,
   "metadata": {},
   "outputs": [],
   "source": [
    "import numpy as np # linear algebra\n",
    "import pandas as pd # data processing, CSV file I/O (e.g. pd.read_csv)"
   ]
  },
  {
   "cell_type": "code",
   "execution_count": 8,
   "metadata": {},
   "outputs": [],
   "source": [
    "DATA_PATH = '/home/jovyan/data'"
   ]
  },
  {
   "cell_type": "code",
   "execution_count": 9,
   "metadata": {},
   "outputs": [],
   "source": [
    "MONTHS_FILES = [\"2019-Oct.csv\", \"2019-Nov.csv\", \"2019-Dec.csv\", \"2020-Jan.csv\", \"2020-Feb.csv\", \"2020-Mar.csv\", \"2020-Apr.csv\"]"
   ]
  },
  {
   "cell_type": "code",
   "execution_count": 10,
   "metadata": {},
   "outputs": [
    {
     "data": {
      "text/plain": [
       "['2019-Oct.csv']"
      ]
     },
     "execution_count": 10,
     "metadata": {},
     "output_type": "execute_result"
    }
   ],
   "source": [
    "selected_months = MONTHS_FILES[:NUM_MONTHS_TO_PREPROCESS]\n",
    "selected_months"
   ]
  },
  {
   "cell_type": "code",
   "execution_count": 11,
   "metadata": {},
   "outputs": [
    {
     "data": {
      "text/plain": [
       "['/home/jovyan/data/2019-Oct.csv']"
      ]
     },
     "execution_count": 11,
     "metadata": {},
     "output_type": "execute_result"
    }
   ],
   "source": [
    "files_paths = [os.path.join(DATA_PATH, file) for file in selected_months]\n",
    "files_paths"
   ]
  },
  {
   "cell_type": "markdown",
   "metadata": {},
   "source": [
    "#### Read through Spark from CSV"
   ]
  },
  {
   "cell_type": "code",
   "execution_count": 12,
   "metadata": {},
   "outputs": [
    {
     "name": "stdout",
     "output_type": "stream",
     "text": [
      "root\n",
      " |-- event_time: string (nullable = true)\n",
      " |-- event_type: string (nullable = true)\n",
      " |-- product_id: integer (nullable = true)\n",
      " |-- category_id: long (nullable = true)\n",
      " |-- category_code: string (nullable = true)\n",
      " |-- brand: string (nullable = true)\n",
      " |-- price: double (nullable = true)\n",
      " |-- user_id: integer (nullable = true)\n",
      " |-- user_session: string (nullable = true)\n",
      "\n",
      "CPU times: user 2.04 ms, sys: 4.34 ms, total: 6.38 ms\n",
      "Wall time: 10.4 s\n"
     ]
    }
   ],
   "source": [
    "%%time\n",
    "raw_df = spark.read.csv(files_paths, inferSchema = True, header = True) #.limit(1000)\n",
    "raw_df.printSchema()"
   ]
  },
  {
   "cell_type": "code",
   "execution_count": 13,
   "metadata": {},
   "outputs": [
    {
     "name": "stdout",
     "output_type": "stream",
     "text": [
      "CPU times: user 6.14 ms, sys: 0 ns, total: 6.14 ms\n",
      "Wall time: 240 ms\n"
     ]
    },
    {
     "data": {
      "text/plain": [
       "[Row(event_time='2019-10-01 00:00:00 UTC', event_type='view', product_id=44600062, category_id=2103807459595387724, category_code=None, brand='shiseido', price=35.79, user_id=541312140, user_session='72d76fde-8bb3-4e00-8c23-a032dfed738c'),\n",
       " Row(event_time='2019-10-01 00:00:00 UTC', event_type='view', product_id=3900821, category_id=2053013552326770905, category_code='appliances.environment.water_heater', brand='aqua', price=33.2, user_id=554748717, user_session='9333dfbd-b87a-4708-9857-6336556b0fcc')]"
      ]
     },
     "execution_count": 13,
     "metadata": {},
     "output_type": "execute_result"
    }
   ],
   "source": [
    "%%time\n",
    "raw_df.head(2)"
   ]
  },
  {
   "cell_type": "markdown",
   "metadata": {},
   "source": [
    "## Convert timestamp from datetime"
   ]
  },
  {
   "cell_type": "code",
   "execution_count": 14,
   "metadata": {},
   "outputs": [],
   "source": [
    "raw_df = raw_df.withColumn('event_time_dt', F.to_timestamp('event_time','yyyy-MM-dd HH:mm:ss')) \\\n",
    "           .withColumn('event_time_ts', F.unix_timestamp('event_time_dt')) \\"
   ]
  },
  {
   "cell_type": "code",
   "execution_count": 15,
   "metadata": {},
   "outputs": [
    {
     "name": "stdout",
     "output_type": "stream",
     "text": [
      "+--------------------+----------+----------+-------------------+--------------------+--------+-------+---------+--------------------+-------------------+-------------+\n",
      "|          event_time|event_type|product_id|        category_id|       category_code|   brand|  price|  user_id|        user_session|      event_time_dt|event_time_ts|\n",
      "+--------------------+----------+----------+-------------------+--------------------+--------+-------+---------+--------------------+-------------------+-------------+\n",
      "|2019-10-01 00:00:...|      view|  44600062|2103807459595387724|                null|shiseido|  35.79|541312140|72d76fde-8bb3-4e0...|2019-10-01 00:00:00|   1569888000|\n",
      "|2019-10-01 00:00:...|      view|   3900821|2053013552326770905|appliances.enviro...|    aqua|   33.2|554748717|9333dfbd-b87a-470...|2019-10-01 00:00:00|   1569888000|\n",
      "|2019-10-01 00:00:...|      view|  17200506|2053013559792632471|furniture.living_...|    null|  543.1|519107250|566511c2-e2e3-422...|2019-10-01 00:00:01|   1569888001|\n",
      "|2019-10-01 00:00:...|      view|   1307067|2053013558920217191|  computers.notebook|  lenovo| 251.74|550050854|7c90fc70-0e80-459...|2019-10-01 00:00:01|   1569888001|\n",
      "|2019-10-01 00:00:...|      view|   1004237|2053013555631882655|electronics.smart...|   apple|1081.98|535871217|c6bd7419-2748-4c5...|2019-10-01 00:00:04|   1569888004|\n",
      "+--------------------+----------+----------+-------------------+--------------------+--------+-------+---------+--------------------+-------------------+-------------+\n",
      "only showing top 5 rows\n",
      "\n"
     ]
    }
   ],
   "source": [
    "raw_df.show(5)"
   ]
  },
  {
   "cell_type": "markdown",
   "metadata": {},
   "source": [
    "## Removing repeated (user,item) interactions"
   ]
  },
  {
   "cell_type": "code",
   "execution_count": 81,
   "metadata": {},
   "outputs": [],
   "source": [
    "df = raw_df"
   ]
  },
  {
   "cell_type": "code",
   "execution_count": 82,
   "metadata": {},
   "outputs": [
    {
     "name": "stdout",
     "output_type": "stream",
     "text": [
      "CPU times: user 1 µs, sys: 1 µs, total: 2 µs\n",
      "Wall time: 6.68 µs\n"
     ]
    }
   ],
   "source": [
    "%%time\n",
    "#df.count()"
   ]
  },
  {
   "cell_type": "code",
   "execution_count": 83,
   "metadata": {},
   "outputs": [],
   "source": [
    "#Keeping only the first user interaction with an item (ignores all future repeated interactions)\n",
    "if not KEEP_REPEATED_USER_INTERACTIONS:\n",
    "    df_first_user_item_interaction_df = df.groupBy(['user_id', 'product_id']).agg(F.min('event_time_ts').alias('first_user_item_event_time_ts'))\n",
    "    df = df.join(df_first_user_item_interaction_df, how='inner',\n",
    "                                              on=((df['user_id'] == df_first_user_item_interaction_df['user_id'])) &\n",
    "                                                  (df['product_id'] == df_first_user_item_interaction_df['product_id']) &\n",
    "                                                  (df['event_time_ts'] == df_first_user_item_interaction_df['first_user_item_event_time_ts'])) \\\n",
    "                                .drop(df_first_user_item_interaction_df['user_id']) \\\n",
    "                                .drop(df_first_user_item_interaction_df['product_id']) \\\n",
    "                                .drop(df_first_user_item_interaction_df['first_user_item_event_time_ts'])\n",
    "#Keeps repeated interactions on the same items, removing only consecutive interactions, because it might be due to browser tab refreshes or different interaction types (e.g. click, add-to-card, purchase)\n",
    "else:\n",
    "    user_id_window = Window.partitionBy('user_id').orderBy('event_time_ts')\n",
    "    df = df.withColumn('last_product_id_interacted_by_user', F.lag('product_id').over(user_id_window)) \\\n",
    "           .where(F.col('last_product_id_interacted_by_user') != F.col('product_id')) \\\n",
    "           .drop(F.col('last_product_id_interacted_by_user'))    "
   ]
  },
  {
   "cell_type": "code",
   "execution_count": 84,
   "metadata": {},
   "outputs": [
    {
     "name": "stdout",
     "output_type": "stream",
     "text": [
      "CPU times: user 1 µs, sys: 2 µs, total: 3 µs\n",
      "Wall time: 5.72 µs\n"
     ]
    }
   ],
   "source": [
    "%%time\n",
    "#print(df.count())"
   ]
  },
  {
   "cell_type": "markdown",
   "metadata": {},
   "source": [
    "**Full Dataset (7 months) Stats - Number of interactions**\n",
    "- No filter: 411709736\n",
    "- Removed iser consecutive repeated interactions in the same items: 261390136\n",
    "- Removing all user repeated interactions with the same items: 204098003"
   ]
  },
  {
   "cell_type": "markdown",
   "metadata": {},
   "source": [
    "**1 Months Stats - Number of interactions**\n",
    "- No filter: 42448764\n",
    "- Removed iser consecutive repeated interactions in the same items: 26565608 \n",
    "- Removing all user repeated interactions with the same items: 23312920"
   ]
  },
  {
   "cell_type": "markdown",
   "metadata": {},
   "source": [
    "## Categorical features encoding\n",
    "\n",
    "API: https://spark.apache.org/docs/latest/api/python/pyspark.ml.html?pyspark.ml.feature.StringIndexer#pyspark.ml.feature.StringIndexer\n",
    "\n",
    "How to apply:\n",
    "https://stackoverflow.com/questions/36942233/apply-stringindexer-to-several-columns-in-a-pyspark-dataframe"
   ]
  },
  {
   "cell_type": "code",
   "execution_count": 85,
   "metadata": {},
   "outputs": [
    {
     "name": "stdout",
     "output_type": "stream",
     "text": [
      "CPU times: user 61.4 ms, sys: 47.9 ms, total: 109 ms\n",
      "Wall time: 2min 54s\n"
     ]
    }
   ],
   "source": [
    "%%time\n",
    "from pyspark.ml.feature import StringIndexer\n",
    "from pyspark.ml import Pipeline\n",
    "\n",
    "#Null values are treated by handleInvalid=\"keep\" with a special bucket\n",
    "#userid_idxer = StringIndexer(inputCol=\"user_id\", outputCol=\"user_idx\", handleInvalid=\"keep\", stringOrderType=\"frequencyDesc\")\n",
    "product_idxer = StringIndexer(inputCol=\"product_id\", outputCol=\"product_idx\", handleInvalid=\"keep\", stringOrderType=\"frequencyDesc\")\n",
    "category_id_idxer = StringIndexer(inputCol=\"category_id\", outputCol=\"category_sub_idx\", handleInvalid=\"keep\", stringOrderType=\"frequencyDesc\")\n",
    "category_code_idxer = StringIndexer(inputCol=\"category_code\", outputCol=\"category_code_idx\", handleInvalid=\"keep\", stringOrderType=\"frequencyDesc\")\n",
    "brand_idxer = StringIndexer(inputCol=\"brand\", outputCol=\"brand_idx\", handleInvalid=\"keep\", stringOrderType=\"frequencyDesc\")\n",
    "event_type_idxer = StringIndexer(inputCol=\"event_type\", outputCol=\"event_type_idx\", handleInvalid=\"keep\", stringOrderType=\"frequencyDesc\")\n",
    "\n",
    "\n",
    "#NOTE: userid_idxer gets error!\n",
    "\n",
    "indexers = [product_idxer, category_id_idxer, category_code_idxer, brand_idxer, event_type_idxer]   #,userid_idxer\n",
    "indexing_pipeline = Pipeline(stages = indexers)\n",
    "         \n",
    "indexing_model = indexing_pipeline.fit(df)\n",
    "df_indexed = indexing_model.transform(df)"
   ]
  },
  {
   "cell_type": "markdown",
   "metadata": {},
   "source": [
    "### Add two to indexed columns"
   ]
  },
  {
   "cell_type": "code",
   "execution_count": 86,
   "metadata": {},
   "outputs": [],
   "source": [
    "start_idx = 2\n",
    "\n",
    "df_indexed = df_indexed.withColumn('product_idx', (F.col('product_idx')+start_idx).cast(IntegerType())) \\\n",
    "                       .withColumn('category_sub_idx', (F.col('category_sub_idx')+start_idx).cast(IntegerType())) \\\n",
    "                       .withColumn('category_code_idx', (F.col('category_code_idx')+start_idx).cast(IntegerType())) \\\n",
    "                       .withColumn('brand_idx', (F.col('brand_idx')+start_idx).cast(IntegerType())) \\\n",
    "                       .withColumn('event_type_idx', (F.col('event_type_idx')+start_idx).cast(IntegerType())) \\\n",
    "                       .withColumn('user_idx', F.col('user_id')+start_idx) #Keeps the original user id as it is (because it causes error on StringIndexer, due to the high cardinality)\n",
    "\n",
    "#.withColumn('user_idx', (F.col('user_idx')+start_idx).cast(IntegerType())) \\"
   ]
  },
  {
   "cell_type": "code",
   "execution_count": 87,
   "metadata": {},
   "outputs": [
    {
     "data": {
      "text/plain": [
       "['event_time',\n",
       " 'event_type',\n",
       " 'category_id',\n",
       " 'category_code',\n",
       " 'brand',\n",
       " 'price',\n",
       " 'user_session',\n",
       " 'event_time_dt',\n",
       " 'event_time_ts',\n",
       " 'user_id',\n",
       " 'product_id',\n",
       " 'product_idx',\n",
       " 'category_sub_idx',\n",
       " 'category_code_idx',\n",
       " 'brand_idx',\n",
       " 'event_type_idx',\n",
       " 'user_idx']"
      ]
     },
     "execution_count": 87,
     "metadata": {},
     "output_type": "execute_result"
    }
   ],
   "source": [
    "df_indexed.columns"
   ]
  },
  {
   "cell_type": "markdown",
   "metadata": {},
   "source": [
    "### Analyze categorical statistics"
   ]
  },
  {
   "cell_type": "code",
   "execution_count": 88,
   "metadata": {},
   "outputs": [],
   "source": [
    "from pyspark.sql.functions import countDistinct"
   ]
  },
  {
   "cell_type": "code",
   "execution_count": 89,
   "metadata": {},
   "outputs": [],
   "source": [
    "#gr = df_indexed.agg(F.countDistinct(\"user_id\"))\n",
    "#gr.show()"
   ]
  },
  {
   "cell_type": "code",
   "execution_count": 90,
   "metadata": {},
   "outputs": [
    {
     "name": "stdout",
     "output_type": "stream",
     "text": [
      "CPU times: user 1e+03 ns, sys: 2 µs, total: 3 µs\n",
      "Wall time: 7.15 µs\n"
     ]
    }
   ],
   "source": [
    "%%time\n",
    "#gr = df_indexed.agg(F.countDistinct(\"user_session\"))\n",
    "#gr.show()"
   ]
  },
  {
   "cell_type": "code",
   "execution_count": 91,
   "metadata": {},
   "outputs": [
    {
     "name": "stdout",
     "output_type": "stream",
     "text": [
      "CPU times: user 0 ns, sys: 2 µs, total: 2 µs\n",
      "Wall time: 4.29 µs\n"
     ]
    }
   ],
   "source": [
    "%%time\n",
    "#gr = df_indexed.groupBy('event_type_idx').count()\n",
    "#gr.show()"
   ]
  },
  {
   "cell_type": "code",
   "execution_count": 92,
   "metadata": {},
   "outputs": [
    {
     "name": "stdout",
     "output_type": "stream",
     "text": [
      "CPU times: user 3 µs, sys: 0 ns, total: 3 µs\n",
      "Wall time: 5.01 µs\n"
     ]
    }
   ],
   "source": [
    "%%time\n",
    "#df_indexed.agg(F.max('product_idx'), F.max('category_sub_idx'), F.max('category_code_idx'), \n",
    "#               F.max('brand_idx'), F.max('event_type_idx')).show()"
   ]
  },
  {
   "cell_type": "markdown",
   "metadata": {},
   "source": [
    "## Extract temporal features"
   ]
  },
  {
   "cell_type": "code",
   "execution_count": 93,
   "metadata": {},
   "outputs": [],
   "source": [
    "df_indexed = df_indexed.withColumn('et_hour', F.hour('event_time_dt'))\\\n",
    "                     .withColumn('et_dayofweek', F.dayofweek('event_time_dt'))\\\n",
    "                     .withColumn('et_dayofmonth', F.dayofmonth('event_time_dt'))\\\n",
    "                     .withColumn('et_month', F.month('event_time_dt'))                "
   ]
  },
  {
   "cell_type": "code",
   "execution_count": 94,
   "metadata": {},
   "outputs": [],
   "source": [
    "def cyclical_feature(value, func, max_value):\n",
    "    if func == 'sin':\n",
    "        f = np.sin\n",
    "    elif func == 'cos':\n",
    "        f = np.cos\n",
    "    else:\n",
    "        raise Exception('Invalid func (expected: sin|cos)')\n",
    "        \n",
    "    value_scaled = (value + 1e-8) / max_value\n",
    "    return float(f(2.*np.pi*value_scaled))\n",
    "\n",
    "@udf(returnType=FloatType())\n",
    "def cyclical_feature_udf(value, func, max_value):\n",
    "    return cyclical_feature(value, func, max_value)"
   ]
  },
  {
   "cell_type": "code",
   "execution_count": 95,
   "metadata": {},
   "outputs": [],
   "source": [
    "# Generating cyclical features to model continuity on temporal features\n",
    "df_indexed = df_indexed.withColumn('et_hour_sin', cyclical_feature_udf(F.col('et_hour'), F.lit('sin'), F.lit(24))) \\\n",
    "                   .withColumn('et_hour_cos', cyclical_feature_udf(F.col('et_hour'), F.lit('cos'), F.lit(24))) \\\n",
    "                   .withColumn('et_dayofweek_sin', cyclical_feature_udf(F.col('et_dayofweek'), F.lit('sin'), F.lit(7))) \\\n",
    "                   .withColumn('et_dayofweek_cos', cyclical_feature_udf(F.col('et_dayofweek'), F.lit('cos'), F.lit(7))) \\\n",
    "                   .withColumn('et_dayofmonth_sin', cyclical_feature_udf(F.col('et_dayofmonth'), F.lit('sin'), F.lit(31))) \\\n",
    "                   .withColumn('et_dayofmonth_cos', cyclical_feature_udf(F.col('et_dayofmonth'), F.lit('cos'), F.lit(31))) \\\n",
    "                   .withColumn('et_month_sin', cyclical_feature_udf(F.col('et_month'), F.lit('sin'), F.lit(12))) \\\n",
    "                   .withColumn('et_month_cos', cyclical_feature_udf(F.col('et_month'), F.lit('cos'), F.lit(12)))"
   ]
  },
  {
   "cell_type": "code",
   "execution_count": 96,
   "metadata": {},
   "outputs": [],
   "source": [
    "# Recency feature\n",
    "item_first_interaction_df = df_indexed.groupBy('product_id').agg(F.min('event_time_ts').alias('prod_first_event_time_ts'))\n",
    "df_indexed = df_indexed.join(item_first_interaction_df, on='product_id', how='inner') \\\n",
    "            .withColumn('product_recency_days', (F.col('event_time_ts') - F.col('prod_first_event_time_ts')) / (60*60*24)) \\\n",
    "            .withColumn('product_recency_days_log', F.log1p('product_recency_days'))"
   ]
  },
  {
   "cell_type": "code",
   "execution_count": 97,
   "metadata": {},
   "outputs": [],
   "source": [
    "#df.head(100)"
   ]
  },
  {
   "cell_type": "code",
   "execution_count": 98,
   "metadata": {},
   "outputs": [],
   "source": [
    "#Smoothing price long-tailed distribution\n",
    "df_indexed = df_indexed.withColumn('price_log', F.log1p('price'))"
   ]
  },
  {
   "cell_type": "code",
   "execution_count": 99,
   "metadata": {},
   "outputs": [],
   "source": [
    "#Relative Price to the average price for the category_id\n",
    "avg_category_id_prices_df = df_indexed.groupBy('category_id').agg(F.mean('price').alias('avg_category_id_price'))\n",
    "df_indexed = df_indexed.join(avg_category_id_prices_df, on='category_id', how='inner') \\\n",
    "        .withColumn('relative_price_to_avg_category_id', (F.col('price') - F.col('avg_category_id_price')) / F.col('avg_category_id_price'))"
   ]
  },
  {
   "cell_type": "code",
   "execution_count": 100,
   "metadata": {},
   "outputs": [],
   "source": [
    "#_df_sb_a.groupBy('product_id').agg(F.stddev('price').alias('std')).where(~F.isnan('std')).agg(F.mean('std')).show()"
   ]
  },
  {
   "cell_type": "code",
   "execution_count": 101,
   "metadata": {},
   "outputs": [],
   "source": [
    "#_df_sb_a.groupBy('category_id').agg(F.stddev('price').alias('std')).where(~F.isnan('std')).agg(F.mean('std')).show()"
   ]
  },
  {
   "cell_type": "code",
   "execution_count": 102,
   "metadata": {},
   "outputs": [],
   "source": [
    "#_df_sb_a.groupBy('category_code').agg(F.stddev('price').alias('std')).agg(F.mean('std')).show()"
   ]
  },
  {
   "cell_type": "code",
   "execution_count": 103,
   "metadata": {},
   "outputs": [
    {
     "data": {
      "text/plain": [
       "[('category_id', 'bigint'),\n",
       " ('product_id', 'int'),\n",
       " ('event_time', 'string'),\n",
       " ('event_type', 'string'),\n",
       " ('category_code', 'string'),\n",
       " ('brand', 'string'),\n",
       " ('price', 'double'),\n",
       " ('user_session', 'string'),\n",
       " ('event_time_dt', 'timestamp'),\n",
       " ('event_time_ts', 'bigint'),\n",
       " ('user_id', 'int'),\n",
       " ('product_idx', 'int'),\n",
       " ('category_sub_idx', 'int'),\n",
       " ('category_code_idx', 'int'),\n",
       " ('brand_idx', 'int'),\n",
       " ('event_type_idx', 'int'),\n",
       " ('user_idx', 'int'),\n",
       " ('et_hour', 'int'),\n",
       " ('et_dayofweek', 'int'),\n",
       " ('et_dayofmonth', 'int'),\n",
       " ('et_month', 'int'),\n",
       " ('et_hour_sin', 'float'),\n",
       " ('et_hour_cos', 'float'),\n",
       " ('et_dayofweek_sin', 'float'),\n",
       " ('et_dayofweek_cos', 'float'),\n",
       " ('et_dayofmonth_sin', 'float'),\n",
       " ('et_dayofmonth_cos', 'float'),\n",
       " ('et_month_sin', 'float'),\n",
       " ('et_month_cos', 'float'),\n",
       " ('prod_first_event_time_ts', 'bigint'),\n",
       " ('product_recency_days', 'double'),\n",
       " ('product_recency_days_log', 'double'),\n",
       " ('price_log', 'double'),\n",
       " ('avg_category_id_price', 'double'),\n",
       " ('relative_price_to_avg_category_id', 'double')]"
      ]
     },
     "execution_count": 103,
     "metadata": {},
     "output_type": "execute_result"
    }
   ],
   "source": [
    "df_indexed.dtypes"
   ]
  },
  {
   "cell_type": "markdown",
   "metadata": {},
   "source": [
    "### Normalize Continuous Features"
   ]
  },
  {
   "cell_type": "markdown",
   "metadata": {},
   "source": [
    "#### Price (log)"
   ]
  },
  {
   "cell_type": "code",
   "execution_count": 104,
   "metadata": {},
   "outputs": [
    {
     "name": "stdout",
     "output_type": "stream",
     "text": [
      "4.985035180576169 1.2631603275977517\n",
      "CPU times: user 10.4 ms, sys: 9.86 ms, total: 20.2 ms\n",
      "Wall time: 1min 35s\n"
     ]
    }
   ],
   "source": [
    "%%time\n",
    "price_log_mean, price_log_std = tuple(df_indexed.agg(F.mean('price_log'), F.stddev('price_log')).take(1)[0])\n",
    "print(price_log_mean, price_log_std)"
   ]
  },
  {
   "cell_type": "code",
   "execution_count": 105,
   "metadata": {},
   "outputs": [],
   "source": [
    "#Z-norm\n",
    "df_indexed = df_indexed.withColumn('price_log_norm', (F.col('price_log') - price_log_mean) / price_log_std)"
   ]
  },
  {
   "cell_type": "markdown",
   "metadata": {},
   "source": [
    "#### Elapsed days (log)"
   ]
  },
  {
   "cell_type": "code",
   "execution_count": 106,
   "metadata": {},
   "outputs": [
    {
     "name": "stdout",
     "output_type": "stream",
     "text": [
      "2.4707174040997737 0.8161943934923657\n",
      "CPU times: user 1.96 ms, sys: 18.1 ms, total: 20 ms\n",
      "Wall time: 1min 20s\n"
     ]
    }
   ],
   "source": [
    "%%time\n",
    "product_recency_days_log_mean, product_recency_days_log_std = tuple(df_indexed.agg(F.mean('product_recency_days_log'), F.stddev('product_recency_days_log')).take(1)[0])\n",
    "print(product_recency_days_log_mean, product_recency_days_log_std)"
   ]
  },
  {
   "cell_type": "code",
   "execution_count": 107,
   "metadata": {},
   "outputs": [],
   "source": [
    "#Z-norm\n",
    "df_indexed = df_indexed.withColumn('product_recency_days_log_norm', (F.col('product_recency_days_log') - product_recency_days_log_mean) / product_recency_days_log_std)"
   ]
  },
  {
   "cell_type": "code",
   "execution_count": 108,
   "metadata": {},
   "outputs": [
    {
     "data": {
      "text/plain": [
       "23312920"
      ]
     },
     "execution_count": 108,
     "metadata": {},
     "output_type": "execute_result"
    }
   ],
   "source": [
    "df_indexed.count()"
   ]
  },
  {
   "cell_type": "code",
   "execution_count": 109,
   "metadata": {},
   "outputs": [
    {
     "data": {
      "text/plain": [
       "\"\\ndf_first_user_item_interaction_df = df_indexed.groupBy(['user_idx', 'product_idx']).agg(F.min('event_time_ts').alias('first_user_item_event_time_ts'))\\n\\ndf_first_user_item_interaction_df.head(10)\\n\\ndf_indexed_not_repeated = df_indexed.join(df_first_user_item_interaction_df, how='inner',\\n                                          on=((df_indexed['user_idx'] == df_first_user_item_interaction_df['user_idx'])) &\\n                                              (df_indexed['product_idx'] == df_first_user_item_interaction_df['product_idx']) &\\n                                              (df_indexed['event_time_ts'] == df_first_user_item_interaction_df['first_user_item_event_time_ts']))                             .drop(df_first_user_item_interaction_df['user_idx'])                             .drop(df_first_user_item_interaction_df['product_idx'])                             .drop(df_first_user_item_interaction_df['first_user_item_event_time_ts'])\\n\\ndf_indexed_not_repeated.count()\\n\""
      ]
     },
     "execution_count": 109,
     "metadata": {},
     "output_type": "execute_result"
    }
   ],
   "source": [
    "'''\n",
    "df_first_user_item_interaction_df = df_indexed.groupBy(['user_idx', 'product_idx']).agg(F.min('event_time_ts').alias('first_user_item_event_time_ts'))\n",
    "\n",
    "df_first_user_item_interaction_df.head(10)\n",
    "\n",
    "df_indexed_not_repeated = df_indexed.join(df_first_user_item_interaction_df, how='inner',\n",
    "                                          on=((df_indexed['user_idx'] == df_first_user_item_interaction_df['user_idx'])) &\n",
    "                                              (df_indexed['product_idx'] == df_first_user_item_interaction_df['product_idx']) &\n",
    "                                              (df_indexed['event_time_ts'] == df_first_user_item_interaction_df['first_user_item_event_time_ts'])) \\\n",
    "                            .drop(df_first_user_item_interaction_df['user_idx']) \\\n",
    "                            .drop(df_first_user_item_interaction_df['product_idx']) \\\n",
    "                            .drop(df_first_user_item_interaction_df['first_user_item_event_time_ts'])\n",
    "\n",
    "df_indexed_not_repeated.count()\n",
    "'''"
   ]
  },
  {
   "cell_type": "markdown",
   "metadata": {},
   "source": [
    "## Computing elapsed time since last interaction (on non-repeated items)"
   ]
  },
  {
   "cell_type": "code",
   "execution_count": 110,
   "metadata": {},
   "outputs": [],
   "source": [
    "user_window = Window.partitionBy('user_idx').orderBy('event_time_ts')"
   ]
  },
  {
   "cell_type": "code",
   "execution_count": 111,
   "metadata": {},
   "outputs": [],
   "source": [
    "df_indexed = df_indexed.withColumn('prev_event_time_ts', F.lag('event_time_ts').over(user_window)) \\\n",
    "                            .withColumn('delta_event_secs',F.when(F.isnull(F.col('prev_event_time_ts')), 0) \\\n",
    "                                                            .otherwise(F.col('event_time_ts') - F.col('prev_event_time_ts'))) \\\n",
    "                            .withColumn('delta_event_secs_log', F.log1p('delta_event_secs'))"
   ]
  },
  {
   "cell_type": "code",
   "execution_count": 112,
   "metadata": {},
   "outputs": [
    {
     "name": "stdout",
     "output_type": "stream",
     "text": [
      "4.783448763418383 3.492059719833784\n",
      "CPU times: user 3.88 ms, sys: 16.6 ms, total: 20.5 ms\n",
      "Wall time: 1min 21s\n"
     ]
    }
   ],
   "source": [
    "%%time\n",
    "session_delta_time_mean, session_delta_time_std = tuple(df_indexed.agg(\n",
    "                            F.mean('delta_event_secs_log').alias('delta_event_secs_log_mean'),\n",
    "                            F.stddev('delta_event_secs_log').alias('delta_event_secs_log_std')).take(1)[0])\n",
    "print(session_delta_time_mean, session_delta_time_std)\n",
    "\n",
    "#Z-norm\n",
    "df_indexed = df_indexed.withColumn('delta_event_secs_log_norm', (F.col('delta_event_secs_log') - session_delta_time_mean) / session_delta_time_std)"
   ]
  },
  {
   "cell_type": "code",
   "execution_count": 113,
   "metadata": {},
   "outputs": [
    {
     "name": "stdout",
     "output_type": "stream",
     "text": [
      "root\n",
      " |-- category_id: long (nullable = true)\n",
      " |-- product_id: integer (nullable = true)\n",
      " |-- event_time: string (nullable = true)\n",
      " |-- event_type: string (nullable = true)\n",
      " |-- category_code: string (nullable = true)\n",
      " |-- brand: string (nullable = true)\n",
      " |-- price: double (nullable = true)\n",
      " |-- user_session: string (nullable = true)\n",
      " |-- event_time_dt: timestamp (nullable = true)\n",
      " |-- event_time_ts: long (nullable = true)\n",
      " |-- user_id: integer (nullable = true)\n",
      " |-- product_idx: integer (nullable = true)\n",
      " |-- category_sub_idx: integer (nullable = true)\n",
      " |-- category_code_idx: integer (nullable = true)\n",
      " |-- brand_idx: integer (nullable = true)\n",
      " |-- event_type_idx: integer (nullable = true)\n",
      " |-- user_idx: integer (nullable = true)\n",
      " |-- et_hour: integer (nullable = true)\n",
      " |-- et_dayofweek: integer (nullable = true)\n",
      " |-- et_dayofmonth: integer (nullable = true)\n",
      " |-- et_month: integer (nullable = true)\n",
      " |-- et_hour_sin: float (nullable = true)\n",
      " |-- et_hour_cos: float (nullable = true)\n",
      " |-- et_dayofweek_sin: float (nullable = true)\n",
      " |-- et_dayofweek_cos: float (nullable = true)\n",
      " |-- et_dayofmonth_sin: float (nullable = true)\n",
      " |-- et_dayofmonth_cos: float (nullable = true)\n",
      " |-- et_month_sin: float (nullable = true)\n",
      " |-- et_month_cos: float (nullable = true)\n",
      " |-- prod_first_event_time_ts: long (nullable = true)\n",
      " |-- product_recency_days: double (nullable = true)\n",
      " |-- product_recency_days_log: double (nullable = true)\n",
      " |-- price_log: double (nullable = true)\n",
      " |-- avg_category_id_price: double (nullable = true)\n",
      " |-- relative_price_to_avg_category_id: double (nullable = true)\n",
      " |-- price_log_norm: double (nullable = true)\n",
      " |-- product_recency_days_log_norm: double (nullable = true)\n",
      " |-- prev_event_time_ts: long (nullable = true)\n",
      " |-- delta_event_secs: long (nullable = true)\n",
      " |-- delta_event_secs_log: double (nullable = true)\n",
      " |-- delta_event_secs_log_norm: double (nullable = true)\n",
      "\n"
     ]
    }
   ],
   "source": [
    "df_indexed.printSchema()"
   ]
  },
  {
   "cell_type": "markdown",
   "metadata": {},
   "source": [
    "## Processing sessions sequences"
   ]
  },
  {
   "cell_type": "markdown",
   "metadata": {},
   "source": [
    "#### Aggregate by session id (create sequence as type of array)"
   ]
  },
  {
   "cell_type": "code",
   "execution_count": 114,
   "metadata": {},
   "outputs": [],
   "source": [
    "session_window = Window.partitionBy('user_session').orderBy('event_time_ts')"
   ]
  },
  {
   "cell_type": "code",
   "execution_count": 115,
   "metadata": {},
   "outputs": [],
   "source": [
    "def get_non_repeated_items(values):\n",
    "    #Returns unique items, keep the order of their first occurence\n",
    "    result = []\n",
    "    for v in values:\n",
    "        if v not in result:\n",
    "            result.append(v)\n",
    "    return result\n",
    "\n",
    "@udf(returnType=ArrayType(IntegerType()))\n",
    "def get_non_repeated_items_integer_udf(values):\n",
    "    result = get_non_repeated_items(values)\n",
    "    result = list([int(x) for x in result])\n",
    "    return result\n",
    "\n",
    "#########################################\n",
    "\n",
    "def get_non_repeated_additional_items(item_ids, additional_feature_values):\n",
    "    #Returns unique items, keep the order of their first occurence\n",
    "    ids = []\n",
    "    result = []\n",
    "    for i, v in zip(item_ids, additional_feature_values):\n",
    "        if i not in ids:\n",
    "            ids.append(i)\n",
    "            result.append(v)\n",
    "    return result\n",
    "\n",
    "@udf(returnType=ArrayType(IntegerType()))\n",
    "def get_non_repeated_additional_items_integer_udf(item_ids, additional_feature_values):\n",
    "    result = get_non_repeated_additional_items(item_ids, additional_feature_values)\n",
    "    result = list([int(x) for x in result])\n",
    "    return result\n",
    "\n",
    "@udf(returnType=ArrayType(FloatType()))\n",
    "def get_non_repeated_additional_items_float_udf(item_ids, additional_feature_values):\n",
    "    result =  get_non_repeated_additional_items(item_ids, additional_feature_values)\n",
    "    result = list([float(x) for x in result])\n",
    "    return result"
   ]
  },
  {
   "cell_type": "code",
   "execution_count": 116,
   "metadata": {},
   "outputs": [],
   "source": [
    "SESSIONS_MAX_LENGTH = 20"
   ]
  },
  {
   "cell_type": "code",
   "execution_count": 117,
   "metadata": {},
   "outputs": [],
   "source": [
    "df_sb_grouped_df = df_indexed \\\n",
    "                .select('user_idx', 'user_session', \n",
    "                        F.first('event_time_ts').over(session_window).alias('session_start_ts'),\n",
    "                        F.last('event_time_ts').over(session_window).alias('session_end_ts'),\n",
    "                        F.slice(F.collect_list('product_idx').over(session_window), 1, SESSIONS_MAX_LENGTH).alias('pid_seq_als'), \n",
    "                        F.slice(F.collect_list('event_time_ts').over(session_window), 1, SESSIONS_MAX_LENGTH).alias('etime_seq_als'),\n",
    "                        F.slice(F.collect_list('event_type_idx').over(session_window), 1, SESSIONS_MAX_LENGTH).alias('event_type_seq_als'), \n",
    "                        F.slice(F.collect_list('category_sub_idx').over(session_window), 1, SESSIONS_MAX_LENGTH).alias('csid_seq_als'),\n",
    "                        F.slice(F.collect_list('category_code_idx').over(session_window), 1, SESSIONS_MAX_LENGTH).alias('ccid_seq_als'),\n",
    "                        F.slice(F.collect_list('brand_idx').over(session_window), 1, SESSIONS_MAX_LENGTH).alias('bid_seq_als'),\n",
    "                        F.slice(F.collect_list('price_log_norm').over(session_window), 1, SESSIONS_MAX_LENGTH).alias('price_log_norm_seq_als'),                    \n",
    "                        F.slice(F.collect_list('delta_event_secs').over(session_window), 1, SESSIONS_MAX_LENGTH).alias('dtime_secs_seq_als'),\n",
    "                        F.slice(F.collect_list('delta_event_secs_log_norm').over(session_window), 1, SESSIONS_MAX_LENGTH).alias('dtime_secs_log_norm_seq_als'),                     \n",
    "                        F.slice(F.collect_list('product_recency_days').over(session_window), 1, SESSIONS_MAX_LENGTH).alias('prod_recency_days_als'),\n",
    "                        F.slice(F.collect_list('product_recency_days_log_norm').over(session_window), 1, SESSIONS_MAX_LENGTH).alias('prod_recency_days_log_norm_als'),\n",
    "                        F.slice(F.collect_list('relative_price_to_avg_category_id').over(session_window), 1, SESSIONS_MAX_LENGTH).alias('relative_price_to_avg_category_als'),\n",
    "                        F.slice(F.collect_list('et_hour_sin').over(session_window), 1, SESSIONS_MAX_LENGTH).alias('et_hour_sin_seq_als'),\n",
    "                        F.slice(F.collect_list('et_hour_cos').over(session_window), 1, SESSIONS_MAX_LENGTH).alias('et_hour_cos_seq_als'),\n",
    "                        F.slice(F.collect_list('et_month_sin').over(session_window), 1, SESSIONS_MAX_LENGTH).alias('et_month_sin_seq_als'),\n",
    "                        F.slice(F.collect_list('et_month_cos').over(session_window), 1, SESSIONS_MAX_LENGTH).alias('et_month_cos_seq_als'),\n",
    "                        F.slice(F.collect_list('et_dayofweek_sin').over(session_window), 1, SESSIONS_MAX_LENGTH).alias('et_dayofweek_sin_seq_als'),\n",
    "                        F.slice(F.collect_list('et_dayofweek_cos').over(session_window), 1, SESSIONS_MAX_LENGTH).alias('et_dayofweek_cos_seq_als'),\n",
    "                        F.slice(F.collect_list('et_dayofmonth_sin').over(session_window), 1, SESSIONS_MAX_LENGTH).alias('et_dayofmonth_sin_seq_als'),\n",
    "                        F.slice(F.collect_list('et_dayofmonth_cos').over(session_window), 1, SESSIONS_MAX_LENGTH).alias('et_dayofmonth_cos_seq_als'),                        \n",
    "                       )\\\n",
    "                .groupBy('user_idx', 'user_session').agg(\n",
    "                    F.min('session_start_ts').alias('session_start_ts'),\n",
    "                    F.max('session_end_ts').alias('session_end_ts'),\n",
    "                    F.max('pid_seq_als').alias('sess_pid_seq'),\n",
    "                    F.max('etime_seq_als').alias('sess_etime_seq'),\n",
    "                    F.max('event_type_seq_als').alias('sess_etype_seq'),    \n",
    "                    F.max('csid_seq_als').alias('sess_csid_seq'),\n",
    "                    F.max('ccid_seq_als').alias('sess_ccid_seq'),\n",
    "                    F.max('bid_seq_als').alias('sess_bid_seq'),\n",
    "                    F.max('price_log_norm_seq_als').alias('sess_price_log_norm_seq'),        \n",
    "                    F.max('dtime_secs_seq_als').alias('sess_dtime_secs_seq'),\n",
    "                    F.max('dtime_secs_log_norm_seq_als').alias('sess_dtime_secs_log_norm_seq'),                    \n",
    "                    F.max('prod_recency_days_als').alias('sess_prod_recency_days_seq'),\n",
    "                    F.max('prod_recency_days_log_norm_als').alias('sess_prod_recency_days_log_norm_seq'),\n",
    "                    F.max('relative_price_to_avg_category_als').alias('sess_relative_price_to_avg_category_seq'),\n",
    "                    F.max('et_hour_sin_seq_als').alias('sess_et_hour_sin_seq'),\n",
    "                    F.max('et_hour_cos_seq_als').alias('sess_et_hour_cos_seq'),\n",
    "                    F.max('et_month_sin_seq_als').alias('sess_et_month_sin_seq'),\n",
    "                    F.max('et_month_cos_seq_als').alias('sess_et_month_cos_seq'),\n",
    "                    F.max('et_dayofweek_sin_seq_als').alias('sess_et_dayofweek_sin_seq'),\n",
    "                    F.max('et_dayofweek_cos_seq_als').alias('sess_et_dayofweek_cos_seq'),\n",
    "                    F.max('et_dayofmonth_sin_seq_als').alias('sess_et_dayofmonth_sin_seq'),\n",
    "                    F.max('et_dayofmonth_cos_seq_als').alias('sess_et_dayofmonth_cos_seq'),               \n",
    "                        )"
   ]
  },
  {
   "cell_type": "code",
   "execution_count": 118,
   "metadata": {},
   "outputs": [],
   "source": [
    "'''\n",
    "df_sb_grouped_nr_df = df_sb_grouped_df.select('user_idx', 'user_session', 'session_start_ts', 'session_end_ts',\n",
    "                        get_non_repeated_items_integer_udf('sess_pid_seq').alias('sess_pid_seq'),\n",
    "                        get_non_repeated_additional_items_integer_udf(F.col(\"sess_pid_seq\"), F.col('sess_etime_seq')).alias('sess_etime_seq'),\n",
    "                        get_non_repeated_additional_items_integer_udf(F.col(\"sess_pid_seq\"), F.col('sess_etype_seq')).alias('sess_etype_seq'),                        \n",
    "                        get_non_repeated_additional_items_integer_udf(F.col(\"sess_pid_seq\"), F.col('sess_csid_seq')).alias('sess_csid_seq'),\n",
    "                        get_non_repeated_additional_items_integer_udf(F.col(\"sess_pid_seq\"), F.col('sess_ccid_seq')).alias('sess_ccid_seq'),\n",
    "                        get_non_repeated_additional_items_integer_udf(F.col(\"sess_pid_seq\"), F.col('sess_bid_seq')).alias('sess_bid_seq'),\n",
    "                        get_non_repeated_additional_items_float_udf(F.col(\"sess_pid_seq\"), F.col('sess_price_log_norm_seq')).alias('sess_price_log_norm_seq'),                                              \n",
    "                        get_non_repeated_additional_items_float_udf(F.col(\"sess_pid_seq\"), F.col('sess_dtime_secs_seq')).alias('sess_dtime_secs_seq'),\n",
    "                        get_non_repeated_additional_items_float_udf(F.col(\"sess_pid_seq\"), F.col('sess_dtime_secs_log_norm_seq')).alias('sess_dtime_secs_log_norm_seq'),\n",
    "                        get_non_repeated_additional_items_float_udf(F.col(\"sess_pid_seq\"), F.col('sess_prod_recency_days_seq')).alias('sess_prod_recency_days_seq'),\n",
    "                        get_non_repeated_additional_items_float_udf(F.col(\"sess_pid_seq\"), F.col('sess_prod_recency_days_log_norm_seq')).alias('sess_prod_recency_days_log_norm_seq'),\n",
    "                        get_non_repeated_additional_items_float_udf(F.col(\"sess_pid_seq\"), F.col('sess_relative_price_to_avg_category_seq')).alias('sess_relative_price_to_avg_category_seq'),\n",
    "                        get_non_repeated_additional_items_float_udf(F.col(\"sess_pid_seq\"), F.col('sess_et_hour_sin_seq')).alias('sess_et_hour_sin_seq'),\n",
    "                        get_non_repeated_additional_items_float_udf(F.col(\"sess_pid_seq\"), F.col('sess_et_hour_cos_seq')).alias('sess_et_hour_cos_seq'),\n",
    "                        get_non_repeated_additional_items_float_udf(F.col(\"sess_pid_seq\"), F.col('sess_et_month_sin_seq')).alias('sess_et_month_sin_seq'),\n",
    "                        get_non_repeated_additional_items_float_udf(F.col(\"sess_pid_seq\"), F.col('sess_et_month_cos_seq')).alias('sess_et_month_cos_seq'),\n",
    "                        get_non_repeated_additional_items_float_udf(F.col(\"sess_pid_seq\"), F.col('sess_et_dayofweek_sin_seq')).alias('sess_et_dayofweek_sin_seq'),\n",
    "                        get_non_repeated_additional_items_float_udf(F.col(\"sess_pid_seq\"), F.col('sess_et_dayofweek_cos_seq')).alias('sess_et_dayofweek_cos_seq'),\n",
    "                        get_non_repeated_additional_items_float_udf(F.col(\"sess_pid_seq\"), F.col('sess_et_dayofmonth_sin_seq')).alias('sess_et_dayofmonth_sin_seq'),\n",
    "                        get_non_repeated_additional_items_float_udf(F.col(\"sess_pid_seq\"), F.col('sess_et_dayofmonth_cos_seq')).alias('sess_et_dayofmonth_cos_seq'),\n",
    "                       ) \\\n",
    "            .where(F.size('sess_pid_seq') >= 2) \\\n",
    "            .withColumn('sess_seq_len', F.size('sess_pid_seq'))\n",
    "'''            \n",
    "\n",
    "\n",
    "df_sb_grouped_nr_df = df_sb_grouped_df.select('user_idx', 'user_session', 'session_start_ts', 'session_end_ts',\n",
    "                        'sess_pid_seq', 'sess_etime_seq', 'sess_etype_seq', 'sess_csid_seq', 'sess_ccid_seq', 'sess_bid_seq', \n",
    "                        'sess_price_log_norm_seq', 'sess_dtime_secs_seq', 'sess_dtime_secs_log_norm_seq',\n",
    "                        'sess_prod_recency_days_seq', 'sess_prod_recency_days_log_norm_seq', 'sess_relative_price_to_avg_category_seq',\n",
    "                        'sess_et_hour_sin_seq', 'sess_et_hour_cos_seq', 'sess_et_month_sin_seq', 'sess_et_month_cos_seq',\n",
    "                        'sess_et_dayofweek_sin_seq', 'sess_et_dayofweek_cos_seq', 'sess_et_dayofmonth_sin_seq', 'sess_et_dayofmonth_cos_seq',\n",
    "                       ) \\\n",
    "            .where(F.size('sess_pid_seq') >= 2) \\\n",
    "            .withColumn('sess_seq_len', F.size('sess_pid_seq'))"
   ]
  },
  {
   "cell_type": "code",
   "execution_count": 119,
   "metadata": {},
   "outputs": [
    {
     "name": "stdout",
     "output_type": "stream",
     "text": [
      "root\n",
      " |-- user_idx: integer (nullable = true)\n",
      " |-- user_session: string (nullable = true)\n",
      " |-- session_start_ts: long (nullable = true)\n",
      " |-- session_end_ts: long (nullable = true)\n",
      " |-- sess_pid_seq: array (nullable = true)\n",
      " |    |-- element: integer (containsNull = true)\n",
      " |-- sess_etime_seq: array (nullable = true)\n",
      " |    |-- element: long (containsNull = true)\n",
      " |-- sess_etype_seq: array (nullable = true)\n",
      " |    |-- element: integer (containsNull = true)\n",
      " |-- sess_csid_seq: array (nullable = true)\n",
      " |    |-- element: integer (containsNull = true)\n",
      " |-- sess_ccid_seq: array (nullable = true)\n",
      " |    |-- element: integer (containsNull = true)\n",
      " |-- sess_bid_seq: array (nullable = true)\n",
      " |    |-- element: integer (containsNull = true)\n",
      " |-- sess_price_log_norm_seq: array (nullable = true)\n",
      " |    |-- element: double (containsNull = true)\n",
      " |-- sess_dtime_secs_seq: array (nullable = true)\n",
      " |    |-- element: long (containsNull = true)\n",
      " |-- sess_dtime_secs_log_norm_seq: array (nullable = true)\n",
      " |    |-- element: double (containsNull = true)\n",
      " |-- sess_prod_recency_days_seq: array (nullable = true)\n",
      " |    |-- element: double (containsNull = true)\n",
      " |-- sess_prod_recency_days_log_norm_seq: array (nullable = true)\n",
      " |    |-- element: double (containsNull = true)\n",
      " |-- sess_relative_price_to_avg_category_seq: array (nullable = true)\n",
      " |    |-- element: double (containsNull = true)\n",
      " |-- sess_et_hour_sin_seq: array (nullable = true)\n",
      " |    |-- element: float (containsNull = true)\n",
      " |-- sess_et_hour_cos_seq: array (nullable = true)\n",
      " |    |-- element: float (containsNull = true)\n",
      " |-- sess_et_month_sin_seq: array (nullable = true)\n",
      " |    |-- element: float (containsNull = true)\n",
      " |-- sess_et_month_cos_seq: array (nullable = true)\n",
      " |    |-- element: float (containsNull = true)\n",
      " |-- sess_et_dayofweek_sin_seq: array (nullable = true)\n",
      " |    |-- element: float (containsNull = true)\n",
      " |-- sess_et_dayofweek_cos_seq: array (nullable = true)\n",
      " |    |-- element: float (containsNull = true)\n",
      " |-- sess_et_dayofmonth_sin_seq: array (nullable = true)\n",
      " |    |-- element: float (containsNull = true)\n",
      " |-- sess_et_dayofmonth_cos_seq: array (nullable = true)\n",
      " |    |-- element: float (containsNull = true)\n",
      " |-- sess_seq_len: integer (nullable = false)\n",
      "\n"
     ]
    }
   ],
   "source": [
    "df_sb_grouped_nr_df.printSchema()"
   ]
  },
  {
   "cell_type": "code",
   "execution_count": 120,
   "metadata": {},
   "outputs": [],
   "source": [
    "percentiles = np.arange(0., 1.1, 0.1).tolist()+[0.95,0.99,0.999]"
   ]
  },
  {
   "cell_type": "code",
   "execution_count": 121,
   "metadata": {},
   "outputs": [
    {
     "data": {
      "text/plain": [
       "\"\\nsession_sizes_pdf = pd.DataFrame(zip(percentiles, \\n                                          df_sb_grouped_nr_df.approxQuantile('sess_seq_len', probabilities=percentiles, relativeError=0.00001)),\\n                                         columns=['percentile', 'session_sizes']).sort_values('percentile')\\nsession_sizes_pdf\\n\""
      ]
     },
     "execution_count": 121,
     "metadata": {},
     "output_type": "execute_result"
    }
   ],
   "source": [
    "'''\n",
    "session_sizes_pdf = pd.DataFrame(zip(percentiles, \n",
    "                                          df_sb_grouped_nr_df.approxQuantile('sess_seq_len', probabilities=percentiles, relativeError=0.00001)),\n",
    "                                         columns=['percentile', 'session_sizes']).sort_values('percentile')\n",
    "session_sizes_pdf\n",
    "'''"
   ]
  },
  {
   "cell_type": "code",
   "execution_count": 122,
   "metadata": {},
   "outputs": [
    {
     "name": "stdout",
     "output_type": "stream",
     "text": [
      "root\n",
      " |-- user_idx: integer (nullable = true)\n",
      " |-- user_session: string (nullable = true)\n",
      " |-- session_start_ts: long (nullable = true)\n",
      " |-- session_end_ts: long (nullable = true)\n",
      " |-- sess_pid_seq: array (nullable = true)\n",
      " |    |-- element: integer (containsNull = true)\n",
      " |-- sess_etime_seq: array (nullable = true)\n",
      " |    |-- element: long (containsNull = true)\n",
      " |-- sess_etype_seq: array (nullable = true)\n",
      " |    |-- element: integer (containsNull = true)\n",
      " |-- sess_csid_seq: array (nullable = true)\n",
      " |    |-- element: integer (containsNull = true)\n",
      " |-- sess_ccid_seq: array (nullable = true)\n",
      " |    |-- element: integer (containsNull = true)\n",
      " |-- sess_bid_seq: array (nullable = true)\n",
      " |    |-- element: integer (containsNull = true)\n",
      " |-- sess_price_log_norm_seq: array (nullable = true)\n",
      " |    |-- element: double (containsNull = true)\n",
      " |-- sess_dtime_secs_seq: array (nullable = true)\n",
      " |    |-- element: long (containsNull = true)\n",
      " |-- sess_dtime_secs_log_norm_seq: array (nullable = true)\n",
      " |    |-- element: double (containsNull = true)\n",
      " |-- sess_prod_recency_days_seq: array (nullable = true)\n",
      " |    |-- element: double (containsNull = true)\n",
      " |-- sess_prod_recency_days_log_norm_seq: array (nullable = true)\n",
      " |    |-- element: double (containsNull = true)\n",
      " |-- sess_relative_price_to_avg_category_seq: array (nullable = true)\n",
      " |    |-- element: double (containsNull = true)\n",
      " |-- sess_et_hour_sin_seq: array (nullable = true)\n",
      " |    |-- element: float (containsNull = true)\n",
      " |-- sess_et_hour_cos_seq: array (nullable = true)\n",
      " |    |-- element: float (containsNull = true)\n",
      " |-- sess_et_month_sin_seq: array (nullable = true)\n",
      " |    |-- element: float (containsNull = true)\n",
      " |-- sess_et_month_cos_seq: array (nullable = true)\n",
      " |    |-- element: float (containsNull = true)\n",
      " |-- sess_et_dayofweek_sin_seq: array (nullable = true)\n",
      " |    |-- element: float (containsNull = true)\n",
      " |-- sess_et_dayofweek_cos_seq: array (nullable = true)\n",
      " |    |-- element: float (containsNull = true)\n",
      " |-- sess_et_dayofmonth_sin_seq: array (nullable = true)\n",
      " |    |-- element: float (containsNull = true)\n",
      " |-- sess_et_dayofmonth_cos_seq: array (nullable = true)\n",
      " |    |-- element: float (containsNull = true)\n",
      " |-- sess_seq_len: integer (nullable = false)\n",
      "\n"
     ]
    }
   ],
   "source": [
    "df_sb_grouped_nr_df.printSchema()"
   ]
  },
  {
   "cell_type": "code",
   "execution_count": 123,
   "metadata": {},
   "outputs": [],
   "source": [
    "##Generating an example parquet file with sequences with different length (sparse) to test with NVT + PyTorch pipeline\n",
    "#df_sb_grouped_nr_df.withColumn('session_start_date', F.date_trunc('day', F.to_timestamp(F.col('session_start_ts'))).cast('string').substr(0,10).alias()) \\\n",
    "#            .repartition(F.col('session_start_date')) \\\n",
    "#                .write.partitionBy('session_start_date').parquet('/mount/workspace/transformers/data_sparse_example')"
   ]
  },
  {
   "cell_type": "markdown",
   "metadata": {},
   "source": [
    "## Processing user sequences"
   ]
  },
  {
   "cell_type": "code",
   "execution_count": 124,
   "metadata": {},
   "outputs": [],
   "source": [
    "MAX_LENGTH_USER_SEQUENCE_BEFORE_SESSION = 20"
   ]
  },
  {
   "cell_type": "markdown",
   "metadata": {},
   "source": [
    "#### Delta time between user clicks (secs)"
   ]
  },
  {
   "cell_type": "code",
   "execution_count": 125,
   "metadata": {},
   "outputs": [],
   "source": [
    "df_user_seq_grouped_df = df_indexed \\\n",
    "                .select('user_idx',  \n",
    "                        F.collect_list('user_session').over(user_window).alias('session_seq_als'),\n",
    "                        F.collect_list('product_idx').over(user_window).alias('pid_seq_als'), \n",
    "                        F.collect_list('event_time_ts').over(user_window).alias('etime_seq_als'),\n",
    "                        F.collect_list('event_type_idx').over(user_window).alias('event_type_seq_als'), \n",
    "                        F.collect_list('category_sub_idx').over(user_window).alias('csid_seq_als'),\n",
    "                        F.collect_list('category_code_idx').over(user_window).alias('ccid_seq_als'),\n",
    "                        F.collect_list('brand_idx').over(user_window).alias('bid_seq_als'),\n",
    "                        F.collect_list('price_log_norm').over(user_window).alias('price_log_seq_als'),\n",
    "                        \n",
    "                        F.collect_list('delta_event_secs').over(session_window).alias('dtime_secs_seq_als'),\n",
    "                        F.collect_list('delta_event_secs_log_norm').over(session_window).alias('dtime_secs_log_norm_seq_als'),                     \n",
    "                        F.collect_list('product_recency_days').over(session_window).alias('prod_recency_days_als'),\n",
    "                        F.collect_list('product_recency_days_log_norm').over(session_window).alias('prod_recency_days_log_norm_als'),\n",
    "                                        \n",
    "                        F.collect_list('relative_price_to_avg_category_id').over(user_window).alias('relative_price_to_avg_category_als'),\n",
    "                        F.collect_list('et_hour_sin').over(user_window).alias('et_hour_sin_seq_als'),\n",
    "                        F.collect_list('et_hour_cos').over(user_window).alias('et_hour_cos_seq_als'),\n",
    "                        F.collect_list('et_month_sin').over(user_window).alias('et_month_sin_seq_als'),\n",
    "                        F.collect_list('et_month_cos').over(user_window).alias('et_month_cos_seq_als'),\n",
    "                        F.collect_list('et_dayofweek_sin').over(user_window).alias('et_dayofweek_sin_seq_als'),\n",
    "                        F.collect_list('et_dayofweek_cos').over(user_window).alias('et_dayofweek_cos_seq_als'),\n",
    "                        F.collect_list('et_dayofmonth_sin').over(user_window).alias('et_dayofmonth_sin_seq_als'),\n",
    "                        F.collect_list('et_dayofmonth_cos').over(user_window).alias('et_dayofmonth_cos_seq_als'),                     \n",
    "                       )\\\n",
    "                .groupBy('user_idx').agg(\n",
    "                    F.max('session_seq_als').alias('user_session_seq'),\n",
    "                    F.max('pid_seq_als').alias('user_pid_seq'),\n",
    "                    F.max('etime_seq_als').alias('user_etime_seq'),\n",
    "                    F.max('event_type_seq_als').alias('user_etype_seq'),    \n",
    "                    F.max('csid_seq_als').alias('user_csid_seq'),\n",
    "                    F.max('ccid_seq_als').alias('user_ccid_seq'),\n",
    "                    F.max('bid_seq_als').alias('user_bid_seq'),\n",
    "                    F.max('price_log_seq_als').alias('user_price_log_seq'),  \n",
    "    \n",
    "                    F.max('dtime_secs_seq_als').alias('user_dtime_secs_seq'),\n",
    "                    F.max('dtime_secs_log_norm_seq_als').alias('user_dtime_secs_log_norm_seq'),\n",
    "                    F.max('prod_recency_days_als').alias('user_prod_recency_days_seq'),\n",
    "                    F.max('prod_recency_days_log_norm_als').alias('user_prod_recency_days_log_norm_seq'),\n",
    "    \n",
    "                    F.max('relative_price_to_avg_category_als').alias('user_relative_price_to_avg_category_seq'),\n",
    "                    F.max('et_hour_sin_seq_als').alias('user_et_hour_sin_seq'),\n",
    "                    F.max('et_hour_cos_seq_als').alias('user_et_hour_cos_seq'),\n",
    "                    F.max('et_month_sin_seq_als').alias('user_et_month_sin_seq'),\n",
    "                    F.max('et_month_cos_seq_als').alias('user_et_month_cos_seq'),\n",
    "                    F.max('et_dayofweek_sin_seq_als').alias('user_et_dayofweek_sin_seq'),\n",
    "                    F.max('et_dayofweek_cos_seq_als').alias('user_et_dayofweek_cos_seq'),\n",
    "                    F.max('et_dayofmonth_sin_seq_als').alias('user_et_dayofmonth_sin_seq'),\n",
    "                    F.max('et_dayofmonth_cos_seq_als').alias('user_et_dayofmonth_cos_seq'),               \n",
    "                        )"
   ]
  },
  {
   "cell_type": "code",
   "execution_count": 126,
   "metadata": {},
   "outputs": [
    {
     "name": "stdout",
     "output_type": "stream",
     "text": [
      "root\n",
      " |-- user_idx: integer (nullable = true)\n",
      " |-- user_session_seq: array (nullable = true)\n",
      " |    |-- element: string (containsNull = true)\n",
      " |-- user_pid_seq: array (nullable = true)\n",
      " |    |-- element: integer (containsNull = true)\n",
      " |-- user_etime_seq: array (nullable = true)\n",
      " |    |-- element: long (containsNull = true)\n",
      " |-- user_etype_seq: array (nullable = true)\n",
      " |    |-- element: integer (containsNull = true)\n",
      " |-- user_csid_seq: array (nullable = true)\n",
      " |    |-- element: integer (containsNull = true)\n",
      " |-- user_ccid_seq: array (nullable = true)\n",
      " |    |-- element: integer (containsNull = true)\n",
      " |-- user_bid_seq: array (nullable = true)\n",
      " |    |-- element: integer (containsNull = true)\n",
      " |-- user_price_log_seq: array (nullable = true)\n",
      " |    |-- element: double (containsNull = true)\n",
      " |-- user_dtime_secs_seq: array (nullable = true)\n",
      " |    |-- element: long (containsNull = true)\n",
      " |-- user_dtime_secs_log_norm_seq: array (nullable = true)\n",
      " |    |-- element: double (containsNull = true)\n",
      " |-- user_prod_recency_days_seq: array (nullable = true)\n",
      " |    |-- element: double (containsNull = true)\n",
      " |-- user_prod_recency_days_log_norm_seq: array (nullable = true)\n",
      " |    |-- element: double (containsNull = true)\n",
      " |-- user_relative_price_to_avg_category_seq: array (nullable = true)\n",
      " |    |-- element: double (containsNull = true)\n",
      " |-- user_et_hour_sin_seq: array (nullable = true)\n",
      " |    |-- element: float (containsNull = true)\n",
      " |-- user_et_hour_cos_seq: array (nullable = true)\n",
      " |    |-- element: float (containsNull = true)\n",
      " |-- user_et_month_sin_seq: array (nullable = true)\n",
      " |    |-- element: float (containsNull = true)\n",
      " |-- user_et_month_cos_seq: array (nullable = true)\n",
      " |    |-- element: float (containsNull = true)\n",
      " |-- user_et_dayofweek_sin_seq: array (nullable = true)\n",
      " |    |-- element: float (containsNull = true)\n",
      " |-- user_et_dayofweek_cos_seq: array (nullable = true)\n",
      " |    |-- element: float (containsNull = true)\n",
      " |-- user_et_dayofmonth_sin_seq: array (nullable = true)\n",
      " |    |-- element: float (containsNull = true)\n",
      " |-- user_et_dayofmonth_cos_seq: array (nullable = true)\n",
      " |    |-- element: float (containsNull = true)\n",
      "\n"
     ]
    }
   ],
   "source": [
    "df_user_seq_grouped_df.printSchema()"
   ]
  },
  {
   "cell_type": "code",
   "execution_count": 127,
   "metadata": {},
   "outputs": [
    {
     "data": {
      "text/plain": [
       "['user_idx',\n",
       " 'user_session',\n",
       " 'session_start_ts',\n",
       " 'session_end_ts',\n",
       " 'sess_pid_seq',\n",
       " 'sess_etime_seq',\n",
       " 'sess_etype_seq',\n",
       " 'sess_csid_seq',\n",
       " 'sess_ccid_seq',\n",
       " 'sess_bid_seq',\n",
       " 'sess_price_log_norm_seq',\n",
       " 'sess_dtime_secs_seq',\n",
       " 'sess_dtime_secs_log_norm_seq',\n",
       " 'sess_prod_recency_days_seq',\n",
       " 'sess_prod_recency_days_log_norm_seq',\n",
       " 'sess_relative_price_to_avg_category_seq',\n",
       " 'sess_et_hour_sin_seq',\n",
       " 'sess_et_hour_cos_seq',\n",
       " 'sess_et_month_sin_seq',\n",
       " 'sess_et_month_cos_seq',\n",
       " 'sess_et_dayofweek_sin_seq',\n",
       " 'sess_et_dayofweek_cos_seq',\n",
       " 'sess_et_dayofmonth_sin_seq',\n",
       " 'sess_et_dayofmonth_cos_seq',\n",
       " 'sess_seq_len']"
      ]
     },
     "execution_count": 127,
     "metadata": {},
     "output_type": "execute_result"
    }
   ],
   "source": [
    "df_sb_grouped_nr_df.columns"
   ]
  },
  {
   "cell_type": "markdown",
   "metadata": {},
   "source": [
    "### Joining users and sessions sequences"
   ]
  },
  {
   "cell_type": "code",
   "execution_count": 128,
   "metadata": {},
   "outputs": [],
   "source": [
    "df_user_seq_grouped_df = df_user_seq_grouped_df.withColumnRenamed('user_idx', 'user_idx2')\n",
    "users_and_session_seq_joined_df = df_sb_grouped_nr_df \\\n",
    "                .join(df_user_seq_grouped_df,\n",
    "                      on=(df_sb_grouped_nr_df['user_idx'] == df_user_seq_grouped_df['user_idx2']), how='inner') \\\n",
    "                .drop(F.col('user_idx2'))"
   ]
  },
  {
   "cell_type": "code",
   "execution_count": 129,
   "metadata": {},
   "outputs": [
    {
     "name": "stdout",
     "output_type": "stream",
     "text": [
      "root\n",
      " |-- user_idx: integer (nullable = true)\n",
      " |-- user_session: string (nullable = true)\n",
      " |-- session_start_ts: long (nullable = true)\n",
      " |-- session_end_ts: long (nullable = true)\n",
      " |-- sess_pid_seq: array (nullable = true)\n",
      " |    |-- element: integer (containsNull = true)\n",
      " |-- sess_etime_seq: array (nullable = true)\n",
      " |    |-- element: long (containsNull = true)\n",
      " |-- sess_etype_seq: array (nullable = true)\n",
      " |    |-- element: integer (containsNull = true)\n",
      " |-- sess_csid_seq: array (nullable = true)\n",
      " |    |-- element: integer (containsNull = true)\n",
      " |-- sess_ccid_seq: array (nullable = true)\n",
      " |    |-- element: integer (containsNull = true)\n",
      " |-- sess_bid_seq: array (nullable = true)\n",
      " |    |-- element: integer (containsNull = true)\n",
      " |-- sess_price_log_norm_seq: array (nullable = true)\n",
      " |    |-- element: double (containsNull = true)\n",
      " |-- sess_dtime_secs_seq: array (nullable = true)\n",
      " |    |-- element: long (containsNull = true)\n",
      " |-- sess_dtime_secs_log_norm_seq: array (nullable = true)\n",
      " |    |-- element: double (containsNull = true)\n",
      " |-- sess_prod_recency_days_seq: array (nullable = true)\n",
      " |    |-- element: double (containsNull = true)\n",
      " |-- sess_prod_recency_days_log_norm_seq: array (nullable = true)\n",
      " |    |-- element: double (containsNull = true)\n",
      " |-- sess_relative_price_to_avg_category_seq: array (nullable = true)\n",
      " |    |-- element: double (containsNull = true)\n",
      " |-- sess_et_hour_sin_seq: array (nullable = true)\n",
      " |    |-- element: float (containsNull = true)\n",
      " |-- sess_et_hour_cos_seq: array (nullable = true)\n",
      " |    |-- element: float (containsNull = true)\n",
      " |-- sess_et_month_sin_seq: array (nullable = true)\n",
      " |    |-- element: float (containsNull = true)\n",
      " |-- sess_et_month_cos_seq: array (nullable = true)\n",
      " |    |-- element: float (containsNull = true)\n",
      " |-- sess_et_dayofweek_sin_seq: array (nullable = true)\n",
      " |    |-- element: float (containsNull = true)\n",
      " |-- sess_et_dayofweek_cos_seq: array (nullable = true)\n",
      " |    |-- element: float (containsNull = true)\n",
      " |-- sess_et_dayofmonth_sin_seq: array (nullable = true)\n",
      " |    |-- element: float (containsNull = true)\n",
      " |-- sess_et_dayofmonth_cos_seq: array (nullable = true)\n",
      " |    |-- element: float (containsNull = true)\n",
      " |-- sess_seq_len: integer (nullable = false)\n",
      " |-- user_session_seq: array (nullable = true)\n",
      " |    |-- element: string (containsNull = true)\n",
      " |-- user_pid_seq: array (nullable = true)\n",
      " |    |-- element: integer (containsNull = true)\n",
      " |-- user_etime_seq: array (nullable = true)\n",
      " |    |-- element: long (containsNull = true)\n",
      " |-- user_etype_seq: array (nullable = true)\n",
      " |    |-- element: integer (containsNull = true)\n",
      " |-- user_csid_seq: array (nullable = true)\n",
      " |    |-- element: integer (containsNull = true)\n",
      " |-- user_ccid_seq: array (nullable = true)\n",
      " |    |-- element: integer (containsNull = true)\n",
      " |-- user_bid_seq: array (nullable = true)\n",
      " |    |-- element: integer (containsNull = true)\n",
      " |-- user_price_log_seq: array (nullable = true)\n",
      " |    |-- element: double (containsNull = true)\n",
      " |-- user_dtime_secs_seq: array (nullable = true)\n",
      " |    |-- element: long (containsNull = true)\n",
      " |-- user_dtime_secs_log_norm_seq: array (nullable = true)\n",
      " |    |-- element: double (containsNull = true)\n",
      " |-- user_prod_recency_days_seq: array (nullable = true)\n",
      " |    |-- element: double (containsNull = true)\n",
      " |-- user_prod_recency_days_log_norm_seq: array (nullable = true)\n",
      " |    |-- element: double (containsNull = true)\n",
      " |-- user_relative_price_to_avg_category_seq: array (nullable = true)\n",
      " |    |-- element: double (containsNull = true)\n",
      " |-- user_et_hour_sin_seq: array (nullable = true)\n",
      " |    |-- element: float (containsNull = true)\n",
      " |-- user_et_hour_cos_seq: array (nullable = true)\n",
      " |    |-- element: float (containsNull = true)\n",
      " |-- user_et_month_sin_seq: array (nullable = true)\n",
      " |    |-- element: float (containsNull = true)\n",
      " |-- user_et_month_cos_seq: array (nullable = true)\n",
      " |    |-- element: float (containsNull = true)\n",
      " |-- user_et_dayofweek_sin_seq: array (nullable = true)\n",
      " |    |-- element: float (containsNull = true)\n",
      " |-- user_et_dayofweek_cos_seq: array (nullable = true)\n",
      " |    |-- element: float (containsNull = true)\n",
      " |-- user_et_dayofmonth_sin_seq: array (nullable = true)\n",
      " |    |-- element: float (containsNull = true)\n",
      " |-- user_et_dayofmonth_cos_seq: array (nullable = true)\n",
      " |    |-- element: float (containsNull = true)\n",
      "\n"
     ]
    }
   ],
   "source": [
    "users_and_session_seq_joined_df.printSchema()"
   ]
  },
  {
   "cell_type": "code",
   "execution_count": 130,
   "metadata": {},
   "outputs": [],
   "source": [
    "def user_seq_feature_before_session(session_start, user_ts_seq, user_feature_seq, limit):\n",
    "    new_seq = list(map(lambda y: y[1], filter(lambda x: x[0] < session_start, zip(user_ts_seq, user_feature_seq))))[-limit:]\n",
    "    return new_seq\n",
    "\n",
    "@udf(returnType=ArrayType(IntegerType()))\n",
    "def user_seq_before_session_integer_udf(session_start, user_ts_seq, user_feature_seq, limit):\n",
    "    result = user_seq_feature_before_session(session_start, user_ts_seq, user_feature_seq, limit)\n",
    "    return list([int(x) for x in result])\n",
    "\n",
    "@udf(returnType=ArrayType(FloatType()))\n",
    "def user_seq_before_session_float_udf(session_start, user_ts_seq, user_feature_seq, limit):\n",
    "    result = user_seq_feature_before_session(session_start, user_ts_seq, user_feature_seq, limit)\n",
    "    return list([float(x) for x in result])\n",
    "\n",
    "@udf(returnType=ArrayType(StringType()))\n",
    "def user_seq_before_session_str_udf(session_start, user_ts_seq, user_feature_seq, limit):\n",
    "    result = user_seq_feature_before_session(session_start, user_ts_seq, user_feature_seq, limit)\n",
    "    return list([str(x) for x in result])"
   ]
  },
  {
   "cell_type": "code",
   "execution_count": 131,
   "metadata": {},
   "outputs": [],
   "source": [
    "def sessions_reversed_order(session_ids):\n",
    "    last_session_id = \"\"\n",
    "    counter = 1\n",
    "    sessions_orders = []\n",
    "    for session_id in reversed(session_ids):\n",
    "        if session_id != last_session_id:\n",
    "            counter += 1\n",
    "            last_session_id = session_id\n",
    "        sessions_orders.append(counter)\n",
    "    return list(reversed(sessions_orders))\n",
    "\n",
    "\n",
    "@udf(returnType=ArrayType(IntegerType()))\n",
    "def sessions_reversed_order_udf(session_ids):\n",
    "    result = sessions_reversed_order(session_ids)\n",
    "    return list([int(x) for x in result])"
   ]
  },
  {
   "cell_type": "code",
   "execution_count": 132,
   "metadata": {},
   "outputs": [],
   "source": [
    "@udf(returnType=ArrayType(IntegerType()))\n",
    "def get_repeated_values_array_int_udf(value, repeat_times):\n",
    "    return [value] * repeat_times"
   ]
  },
  {
   "cell_type": "code",
   "execution_count": 133,
   "metadata": {},
   "outputs": [
    {
     "data": {
      "text/plain": [
       "[5, 5, 5, 5, 4, 3, 3, 2]"
      ]
     },
     "execution_count": 133,
     "metadata": {},
     "output_type": "execute_result"
    }
   ],
   "source": [
    "sessions_reversed_order([\"a\", \"a\", \"a\", \"a\", \"b\", \"c\", \"c\", \"d\"])"
   ]
  },
  {
   "cell_type": "code",
   "execution_count": 134,
   "metadata": {},
   "outputs": [],
   "source": [
    "session_seq_and_prev_users_seq_df = users_and_session_seq_joined_df \\\n",
    "            .withColumn('bef_sess_pid_seq', user_seq_before_session_integer_udf(F.col('session_start_ts'), F.col('user_etime_seq'),  F.col('user_pid_seq'), F.lit(MAX_LENGTH_USER_SEQUENCE_BEFORE_SESSION))) \\\n",
    "            .withColumn('bef_sess_etime_seq', user_seq_before_session_integer_udf(F.col('session_start_ts'), F.col('user_etime_seq'),  F.col('user_etime_seq'), F.lit(MAX_LENGTH_USER_SEQUENCE_BEFORE_SESSION))) \\\n",
    "            .withColumn('bef_sess_etype_seq', user_seq_before_session_integer_udf(F.col('session_start_ts'), F.col('user_etime_seq'),  F.col('user_etype_seq'), F.lit(MAX_LENGTH_USER_SEQUENCE_BEFORE_SESSION))) \\\n",
    "            .withColumn('bef_sess_csid_seq', user_seq_before_session_integer_udf(F.col('session_start_ts'), F.col('user_etime_seq'),  F.col('user_csid_seq'), F.lit(MAX_LENGTH_USER_SEQUENCE_BEFORE_SESSION))) \\\n",
    "            .withColumn('bef_sess_ccid_seq', user_seq_before_session_integer_udf(F.col('session_start_ts'), F.col('user_etime_seq'),  F.col('user_ccid_seq'), F.lit(MAX_LENGTH_USER_SEQUENCE_BEFORE_SESSION))) \\\n",
    "            .withColumn('bef_sess_bid_seq', user_seq_before_session_integer_udf(F.col('session_start_ts'), F.col('user_etime_seq'),  F.col('user_bid_seq'), F.lit(MAX_LENGTH_USER_SEQUENCE_BEFORE_SESSION))) \\\n",
    "            .withColumn('bef_sess_price_log_norm_seq', user_seq_before_session_float_udf(F.col('session_start_ts'), F.col('user_etime_seq'),  F.col('user_price_log_seq'), F.lit(MAX_LENGTH_USER_SEQUENCE_BEFORE_SESSION))) \\\n",
    "            .withColumn('bef_sess_dtime_secs_seq', user_seq_before_session_float_udf(F.col('session_start_ts'), F.col('user_etime_seq'),  F.col('user_dtime_secs_seq'), F.lit(MAX_LENGTH_USER_SEQUENCE_BEFORE_SESSION))) \\\n",
    "            .withColumn('bef_sess_dtime_secs_log_norm_seq', user_seq_before_session_float_udf(F.col('session_start_ts'), F.col('user_etime_seq'),  F.col('user_dtime_secs_log_norm_seq'), F.lit(MAX_LENGTH_USER_SEQUENCE_BEFORE_SESSION))) \\\n",
    "            .withColumn('bef_sess_prod_recency_days_seq', user_seq_before_session_float_udf(F.col('session_start_ts'), F.col('user_etime_seq'),  F.col('user_prod_recency_days_seq'), F.lit(MAX_LENGTH_USER_SEQUENCE_BEFORE_SESSION))) \\\n",
    "            .withColumn('bef_sess_prod_recency_days_log_norm_seq', user_seq_before_session_float_udf(F.col('session_start_ts'), F.col('user_etime_seq'),  F.col('user_prod_recency_days_log_norm_seq'), F.lit(MAX_LENGTH_USER_SEQUENCE_BEFORE_SESSION))) \\\n",
    "            .withColumn('bef_sess_relative_price_to_avg_category_seq', user_seq_before_session_float_udf(F.col('session_start_ts'), F.col('user_etime_seq'),  F.col('user_relative_price_to_avg_category_seq'), F.lit(MAX_LENGTH_USER_SEQUENCE_BEFORE_SESSION))) \\\n",
    "            .withColumn('bef_sess_et_hour_sin_seq', user_seq_before_session_float_udf(F.col('session_start_ts'), F.col('user_etime_seq'),  F.col('user_et_hour_sin_seq'), F.lit(MAX_LENGTH_USER_SEQUENCE_BEFORE_SESSION))) \\\n",
    "            .withColumn('bef_sess_et_hour_cos_seq', user_seq_before_session_float_udf(F.col('session_start_ts'), F.col('user_etime_seq'),  F.col('user_et_hour_cos_seq'), F.lit(MAX_LENGTH_USER_SEQUENCE_BEFORE_SESSION))) \\\n",
    "            .withColumn('bef_sess_et_month_sin_seq', user_seq_before_session_float_udf(F.col('session_start_ts'), F.col('user_etime_seq'),  F.col('user_et_month_sin_seq'), F.lit(MAX_LENGTH_USER_SEQUENCE_BEFORE_SESSION))) \\\n",
    "            .withColumn('bef_sess_et_month_cos_seq', user_seq_before_session_float_udf(F.col('session_start_ts'), F.col('user_etime_seq'),  F.col('user_et_month_cos_seq'), F.lit(MAX_LENGTH_USER_SEQUENCE_BEFORE_SESSION))) \\\n",
    "            .withColumn('bef_sess_et_dayofweek_sin_seq', user_seq_before_session_float_udf(F.col('session_start_ts'), F.col('user_etime_seq'),  F.col('user_et_dayofweek_sin_seq'), F.lit(MAX_LENGTH_USER_SEQUENCE_BEFORE_SESSION))) \\\n",
    "            .withColumn('bef_sess_et_dayofweek_cos_seq', user_seq_before_session_float_udf(F.col('session_start_ts'), F.col('user_etime_seq'),  F.col('user_et_dayofweek_cos_seq'), F.lit(MAX_LENGTH_USER_SEQUENCE_BEFORE_SESSION))) \\\n",
    "            .withColumn('bef_sess_et_dayofmonth_sin_seq', user_seq_before_session_float_udf(F.col('session_start_ts'), F.col('user_etime_seq'),  F.col('user_et_dayofmonth_sin_seq'), F.lit(MAX_LENGTH_USER_SEQUENCE_BEFORE_SESSION))) \\\n",
    "            .withColumn('bef_sess_et_dayofmonth_cos_seq', user_seq_before_session_float_udf(F.col('session_start_ts'), F.col('user_etime_seq'),  F.col('user_et_dayofmonth_cos_seq'), F.lit(MAX_LENGTH_USER_SEQUENCE_BEFORE_SESSION))) \\\n",
    "            .withColumn('bef_sess_session_reversed_order_seq', sessions_reversed_order_udf(user_seq_before_session_str_udf(F.col('session_start_ts'), F.col('user_etime_seq'),  F.col('user_session_seq'), F.lit(MAX_LENGTH_USER_SEQUENCE_BEFORE_SESSION)))) \\\n",
    "            .withColumn('sess_session_reversed_order_seq', get_repeated_values_array_int_udf(F.lit(1), F.lit(SESSIONS_MAX_LENGTH))) \\\n",
    "            .withColumn('bef_sess_seq_length', F.size('bef_sess_pid_seq'))"
   ]
  },
  {
   "cell_type": "markdown",
   "metadata": {},
   "source": [
    "# Exporting data"
   ]
  },
  {
   "cell_type": "markdown",
   "metadata": {},
   "source": [
    "#### Option A: Pad zeros to make all sequences same length\n",
    "NOTE: it would be not memory-efficient. But currently it seems no way to utilize Petastorm (parquet -> dataloader) without this option."
   ]
  },
  {
   "cell_type": "code",
   "execution_count": 135,
   "metadata": {},
   "outputs": [],
   "source": [
    "from pyspark.sql.types import ArrayType, IntegerType\n",
    "\n",
    "def pad_array(values, expected_length, trunc_start, dtype=int):\n",
    "    #if dtype is float:\n",
    "    #    value_to_pad = [0.]\n",
    "    #else:\n",
    "    #    value_to_pad = [0]\n",
    "    #value_to_pad = [dtype(0)]\n",
    "        \n",
    "    res = list([dtype(x) for x in values]) + ([dtype(0)] * (expected_length-len(values)))\n",
    "    \n",
    "    # Pick first N\n",
    "    if trunc_start:\n",
    "        res = res[:expected_length]\n",
    "    #Pick last N\n",
    "    else:\n",
    "        res = res[-expected_length:]\n",
    "        \n",
    "    return res\n",
    "\n",
    "\n",
    "@udf(returnType=ArrayType(IntegerType()))\n",
    "def pad_array_int(values, expected_length, trunc_start):\n",
    "    return pad_array(values, expected_length, trunc_start)\n",
    "\n",
    "@udf(returnType=ArrayType(LongType()))\n",
    "def pad_array_long(values, expected_length, trunc_start):\n",
    "    return pad_array(values, expected_length, trunc_start)\n",
    "\n",
    "@udf(returnType=ArrayType(FloatType()))\n",
    "def pad_array_float(values, expected_length, trunc_start):\n",
    "    return pad_array(values, expected_length, trunc_start, dtype=float)"
   ]
  },
  {
   "cell_type": "code",
   "execution_count": 136,
   "metadata": {},
   "outputs": [
    {
     "data": {
      "text/plain": [
       "\"\\n#Export padded sequences for compatibility with PetaStorm data loader. NVTabular and PyArrow supports list columns with different lengths\\nsessions_users_seqs_to_export_df =         session_seq_and_prev_users_seq_df.select('user_idx', 'user_session', 'sess_seq_len', \\n                                                 'session_start_ts',  \\n                                                 F.date_trunc('day', F.to_timestamp(F.col('session_start_ts'))).cast('string').substr(0,10).alias('session_start_date'), \\n                                                 'user_seq_length_bef_sess', 'user_elapsed_days_bef_sess', 'user_elapsed_days_log_bef_sess_norm',\\n                        # Session sequences (first N interactions)\\n                        pad_array_long(F.col('sess_pid_seq'), F.lit(SESSIONS_MAX_LENGTH), F.lit(True)).alias('sess_pid_seq'),\\n                        pad_array_long(F.col('sess_etime_seq'), F.lit(SESSIONS_MAX_LENGTH), F.lit(True)).alias('sess_etime_seq'),\\n                        pad_array_int(F.col('sess_etype_seq'), F.lit(SESSIONS_MAX_LENGTH), F.lit(True)).alias('sess_etype_seq'),\\n                        pad_array_int(F.col('sess_csid_seq'), F.lit(SESSIONS_MAX_LENGTH), F.lit(True)).alias('sess_csid_seq'),\\n                        pad_array_int(F.col('sess_ccid_seq'), F.lit(SESSIONS_MAX_LENGTH), F.lit(True)).alias('sess_ccid_seq'),\\n                        pad_array_int(F.col('sess_bid_seq'), F.lit(SESSIONS_MAX_LENGTH), F.lit(True)).alias('sess_bid_seq'),\\n                        pad_array_float(F.col('sess_price_seq'), F.lit(SESSIONS_MAX_LENGTH), F.lit(True)).alias('sess_price_seq'),\\n                        pad_array_float(F.col('sess_dtime_seq'), F.lit(SESSIONS_MAX_LENGTH), F.lit(True)).alias('sess_dtime_seq'),\\n                        pad_array_float(F.col('sess_product_recency_seq'), F.lit(SESSIONS_MAX_LENGTH), F.lit(True)).alias('sess_product_recency_seq'),\\n                        pad_array_float(F.col('sess_relative_price_to_avg_category_seq'), F.lit(SESSIONS_MAX_LENGTH), F.lit(True)).alias('sess_relative_price_to_avg_category_seq'),\\n                        pad_array_float(F.col('sess_et_hour_sin_seq'), F.lit(SESSIONS_MAX_LENGTH), F.lit(True)).alias('sess_et_hour_sin_seq'), \\n                        pad_array_float(F.col('sess_et_hour_cos_seq'), F.lit(SESSIONS_MAX_LENGTH), F.lit(True)).alias('sess_et_hour_cos_seq'),\\n                        pad_array_float(F.col('sess_et_month_sin_seq'), F.lit(SESSIONS_MAX_LENGTH), F.lit(True)).alias('sess_et_month_sin_seq'),\\n                        pad_array_float(F.col('sess_et_month_cos_seq'), F.lit(SESSIONS_MAX_LENGTH), F.lit(True)).alias('sess_et_month_cos_seq'),\\n                        pad_array_float(F.col('sess_et_dayofweek_sin_seq'), F.lit(SESSIONS_MAX_LENGTH), F.lit(True)).alias('sess_et_dayofweek_sin_seq'),\\n                        pad_array_float(F.col('sess_et_dayofweek_cos_seq'), F.lit(SESSIONS_MAX_LENGTH), F.lit(True)).alias('sess_et_dayofweek_cos_seq'),\\n                        pad_array_float(F.col('sess_et_dayofmonth_sin_seq'), F.lit(SESSIONS_MAX_LENGTH), F.lit(True)).alias('sess_et_dayofmonth_sin_seq'),\\n                        pad_array_float(F.col('sess_et_dayofmonth_cos_seq'), F.lit(SESSIONS_MAX_LENGTH), F.lit(True)).alias('sess_et_dayofmonth_cos_seq'),\\n                         # Users sequences before session (last M interactions) \\n                         pad_array_long(F.col('user_pid_seq_bef_sess'), F.lit(MAX_LENGTH_USER_SEQUENCE_BEFORE_SESSION), F.lit(False)).alias('user_pid_seq_bef_sess'),\\n                         pad_array_long(F.col('user_etime_seq_bef_sess'), F.lit(MAX_LENGTH_USER_SEQUENCE_BEFORE_SESSION), F.lit(False)).alias('user_etime_seq_bef_sess'),\\n                         pad_array_int(F.col('user_etype_seq_bef_sess'), F.lit(MAX_LENGTH_USER_SEQUENCE_BEFORE_SESSION), F.lit(False)).alias('user_etype_seq_bef_sess'),\\n                         pad_array_int(F.col('user_csid_seq_bef_sess'), F.lit(MAX_LENGTH_USER_SEQUENCE_BEFORE_SESSION), F.lit(False)).alias('user_csid_seq_bef_sess'),\\n                         pad_array_int(F.col('user_ccid_seq_bef_sess'), F.lit(MAX_LENGTH_USER_SEQUENCE_BEFORE_SESSION), F.lit(False)).alias('user_ccid_seq_bef_sess'),\\n                         pad_array_int(F.col('user_bid_seq_bef_sess'), F.lit(MAX_LENGTH_USER_SEQUENCE_BEFORE_SESSION), F.lit(False)).alias('user_bid_seq_bef_sess'),\\n                         pad_array_float(F.col('user_price_seq_bef_sess'), F.lit(MAX_LENGTH_USER_SEQUENCE_BEFORE_SESSION), F.lit(False)).alias('user_price_seq_bef_sess'),\\n                         pad_array_float(F.col('user_dtime_seq_bef_sess'), F.lit(MAX_LENGTH_USER_SEQUENCE_BEFORE_SESSION), F.lit(False)).alias('user_dtime_seq_bef_sess'),\\n                         pad_array_float(F.col('user_product_recency_seq_bef_sess'), F.lit(MAX_LENGTH_USER_SEQUENCE_BEFORE_SESSION), F.lit(False)).alias('user_product_recency_seq_bef_sess'),\\n                         pad_array_float(F.col('user_relative_price_to_avg_category_seq_bef_sess'), F.lit(MAX_LENGTH_USER_SEQUENCE_BEFORE_SESSION), F.lit(False)).alias('user_relative_price_to_avg_category_seq_bef_sess'),\\n                         pad_array_float(F.col('user_et_hour_sin_seq_bef_sess'), F.lit(MAX_LENGTH_USER_SEQUENCE_BEFORE_SESSION), F.lit(False)).alias('user_et_hour_sin_seq_bef_sess'),\\n                         pad_array_float(F.col('user_et_hour_cos_seq_bef_sess'), F.lit(MAX_LENGTH_USER_SEQUENCE_BEFORE_SESSION), F.lit(False)).alias('user_et_hour_cos_seq_bef_sess'),\\n                         pad_array_float(F.col('user_et_month_sin_seq_bef_sess'), F.lit(MAX_LENGTH_USER_SEQUENCE_BEFORE_SESSION), F.lit(False)).alias('user_et_month_sin_seq_bef_sess'),\\n                         pad_array_float(F.col('user_et_month_cos_seq_bef_sess'), F.lit(MAX_LENGTH_USER_SEQUENCE_BEFORE_SESSION), F.lit(False)).alias('user_et_month_cos_seq_bef_sess'),\\n                         pad_array_float(F.col('user_et_dayofweek_sin_seq_bef_sess'), F.lit(MAX_LENGTH_USER_SEQUENCE_BEFORE_SESSION), F.lit(False)).alias('user_et_dayofweek_sin_seq_bef_sess'),\\n                         pad_array_float(F.col('user_et_dayofweek_cos_seq_bef_sess'), F.lit(MAX_LENGTH_USER_SEQUENCE_BEFORE_SESSION), F.lit(False)).alias('user_et_dayofweek_cos_seq_bef_sess'),\\n                         pad_array_float(F.col('user_et_dayofmonth_sin_seq_bef_sess'), F.lit(MAX_LENGTH_USER_SEQUENCE_BEFORE_SESSION), F.lit(False)).alias('user_et_dayofmonth_sin_seq_bef_sess'),\\n                         pad_array_float(F.col('user_et_dayofmonth_cos_seq_bef_sess'), F.lit(MAX_LENGTH_USER_SEQUENCE_BEFORE_SESSION), F.lit(False)).alias('user_et_dayofmonth_cos_seq_bef_sess'),\\n                    )\\n\""
      ]
     },
     "execution_count": 136,
     "metadata": {},
     "output_type": "execute_result"
    }
   ],
   "source": [
    "'''\n",
    "#Export padded sequences for compatibility with PetaStorm data loader. NVTabular and PyArrow supports list columns with different lengths\n",
    "sessions_users_seqs_to_export_df = \\\n",
    "        session_seq_and_prev_users_seq_df.select('user_idx', 'user_session', 'sess_seq_len', \n",
    "                                                 'session_start_ts',  \n",
    "                                                 F.date_trunc('day', F.to_timestamp(F.col('session_start_ts'))).cast('string').substr(0,10).alias('session_start_date'), \n",
    "                                                 'user_seq_length_bef_sess', 'user_elapsed_days_bef_sess', 'user_elapsed_days_log_bef_sess_norm',\n",
    "                        # Session sequences (first N interactions)\n",
    "                        pad_array_long(F.col('sess_pid_seq'), F.lit(SESSIONS_MAX_LENGTH), F.lit(True)).alias('sess_pid_seq'),\n",
    "                        pad_array_long(F.col('sess_etime_seq'), F.lit(SESSIONS_MAX_LENGTH), F.lit(True)).alias('sess_etime_seq'),\n",
    "                        pad_array_int(F.col('sess_etype_seq'), F.lit(SESSIONS_MAX_LENGTH), F.lit(True)).alias('sess_etype_seq'),\n",
    "                        pad_array_int(F.col('sess_csid_seq'), F.lit(SESSIONS_MAX_LENGTH), F.lit(True)).alias('sess_csid_seq'),\n",
    "                        pad_array_int(F.col('sess_ccid_seq'), F.lit(SESSIONS_MAX_LENGTH), F.lit(True)).alias('sess_ccid_seq'),\n",
    "                        pad_array_int(F.col('sess_bid_seq'), F.lit(SESSIONS_MAX_LENGTH), F.lit(True)).alias('sess_bid_seq'),\n",
    "                        pad_array_float(F.col('sess_price_seq'), F.lit(SESSIONS_MAX_LENGTH), F.lit(True)).alias('sess_price_seq'),\n",
    "                        pad_array_float(F.col('sess_dtime_seq'), F.lit(SESSIONS_MAX_LENGTH), F.lit(True)).alias('sess_dtime_seq'),\n",
    "                        pad_array_float(F.col('sess_product_recency_seq'), F.lit(SESSIONS_MAX_LENGTH), F.lit(True)).alias('sess_product_recency_seq'),\n",
    "                        pad_array_float(F.col('sess_relative_price_to_avg_category_seq'), F.lit(SESSIONS_MAX_LENGTH), F.lit(True)).alias('sess_relative_price_to_avg_category_seq'),\n",
    "                        pad_array_float(F.col('sess_et_hour_sin_seq'), F.lit(SESSIONS_MAX_LENGTH), F.lit(True)).alias('sess_et_hour_sin_seq'), \n",
    "                        pad_array_float(F.col('sess_et_hour_cos_seq'), F.lit(SESSIONS_MAX_LENGTH), F.lit(True)).alias('sess_et_hour_cos_seq'),\n",
    "                        pad_array_float(F.col('sess_et_month_sin_seq'), F.lit(SESSIONS_MAX_LENGTH), F.lit(True)).alias('sess_et_month_sin_seq'),\n",
    "                        pad_array_float(F.col('sess_et_month_cos_seq'), F.lit(SESSIONS_MAX_LENGTH), F.lit(True)).alias('sess_et_month_cos_seq'),\n",
    "                        pad_array_float(F.col('sess_et_dayofweek_sin_seq'), F.lit(SESSIONS_MAX_LENGTH), F.lit(True)).alias('sess_et_dayofweek_sin_seq'),\n",
    "                        pad_array_float(F.col('sess_et_dayofweek_cos_seq'), F.lit(SESSIONS_MAX_LENGTH), F.lit(True)).alias('sess_et_dayofweek_cos_seq'),\n",
    "                        pad_array_float(F.col('sess_et_dayofmonth_sin_seq'), F.lit(SESSIONS_MAX_LENGTH), F.lit(True)).alias('sess_et_dayofmonth_sin_seq'),\n",
    "                        pad_array_float(F.col('sess_et_dayofmonth_cos_seq'), F.lit(SESSIONS_MAX_LENGTH), F.lit(True)).alias('sess_et_dayofmonth_cos_seq'),\n",
    "                         # Users sequences before session (last M interactions) \n",
    "                         pad_array_long(F.col('user_pid_seq_bef_sess'), F.lit(MAX_LENGTH_USER_SEQUENCE_BEFORE_SESSION), F.lit(False)).alias('user_pid_seq_bef_sess'),\n",
    "                         pad_array_long(F.col('user_etime_seq_bef_sess'), F.lit(MAX_LENGTH_USER_SEQUENCE_BEFORE_SESSION), F.lit(False)).alias('user_etime_seq_bef_sess'),\n",
    "                         pad_array_int(F.col('user_etype_seq_bef_sess'), F.lit(MAX_LENGTH_USER_SEQUENCE_BEFORE_SESSION), F.lit(False)).alias('user_etype_seq_bef_sess'),\n",
    "                         pad_array_int(F.col('user_csid_seq_bef_sess'), F.lit(MAX_LENGTH_USER_SEQUENCE_BEFORE_SESSION), F.lit(False)).alias('user_csid_seq_bef_sess'),\n",
    "                         pad_array_int(F.col('user_ccid_seq_bef_sess'), F.lit(MAX_LENGTH_USER_SEQUENCE_BEFORE_SESSION), F.lit(False)).alias('user_ccid_seq_bef_sess'),\n",
    "                         pad_array_int(F.col('user_bid_seq_bef_sess'), F.lit(MAX_LENGTH_USER_SEQUENCE_BEFORE_SESSION), F.lit(False)).alias('user_bid_seq_bef_sess'),\n",
    "                         pad_array_float(F.col('user_price_seq_bef_sess'), F.lit(MAX_LENGTH_USER_SEQUENCE_BEFORE_SESSION), F.lit(False)).alias('user_price_seq_bef_sess'),\n",
    "                         pad_array_float(F.col('user_dtime_seq_bef_sess'), F.lit(MAX_LENGTH_USER_SEQUENCE_BEFORE_SESSION), F.lit(False)).alias('user_dtime_seq_bef_sess'),\n",
    "                         pad_array_float(F.col('user_product_recency_seq_bef_sess'), F.lit(MAX_LENGTH_USER_SEQUENCE_BEFORE_SESSION), F.lit(False)).alias('user_product_recency_seq_bef_sess'),\n",
    "                         pad_array_float(F.col('user_relative_price_to_avg_category_seq_bef_sess'), F.lit(MAX_LENGTH_USER_SEQUENCE_BEFORE_SESSION), F.lit(False)).alias('user_relative_price_to_avg_category_seq_bef_sess'),\n",
    "                         pad_array_float(F.col('user_et_hour_sin_seq_bef_sess'), F.lit(MAX_LENGTH_USER_SEQUENCE_BEFORE_SESSION), F.lit(False)).alias('user_et_hour_sin_seq_bef_sess'),\n",
    "                         pad_array_float(F.col('user_et_hour_cos_seq_bef_sess'), F.lit(MAX_LENGTH_USER_SEQUENCE_BEFORE_SESSION), F.lit(False)).alias('user_et_hour_cos_seq_bef_sess'),\n",
    "                         pad_array_float(F.col('user_et_month_sin_seq_bef_sess'), F.lit(MAX_LENGTH_USER_SEQUENCE_BEFORE_SESSION), F.lit(False)).alias('user_et_month_sin_seq_bef_sess'),\n",
    "                         pad_array_float(F.col('user_et_month_cos_seq_bef_sess'), F.lit(MAX_LENGTH_USER_SEQUENCE_BEFORE_SESSION), F.lit(False)).alias('user_et_month_cos_seq_bef_sess'),\n",
    "                         pad_array_float(F.col('user_et_dayofweek_sin_seq_bef_sess'), F.lit(MAX_LENGTH_USER_SEQUENCE_BEFORE_SESSION), F.lit(False)).alias('user_et_dayofweek_sin_seq_bef_sess'),\n",
    "                         pad_array_float(F.col('user_et_dayofweek_cos_seq_bef_sess'), F.lit(MAX_LENGTH_USER_SEQUENCE_BEFORE_SESSION), F.lit(False)).alias('user_et_dayofweek_cos_seq_bef_sess'),\n",
    "                         pad_array_float(F.col('user_et_dayofmonth_sin_seq_bef_sess'), F.lit(MAX_LENGTH_USER_SEQUENCE_BEFORE_SESSION), F.lit(False)).alias('user_et_dayofmonth_sin_seq_bef_sess'),\n",
    "                         pad_array_float(F.col('user_et_dayofmonth_cos_seq_bef_sess'), F.lit(MAX_LENGTH_USER_SEQUENCE_BEFORE_SESSION), F.lit(False)).alias('user_et_dayofmonth_cos_seq_bef_sess'),\n",
    "                    )\n",
    "'''                    "
   ]
  },
  {
   "cell_type": "code",
   "execution_count": 137,
   "metadata": {},
   "outputs": [],
   "source": [
    "sessions_users_seqs_to_export_df = \\\n",
    "        session_seq_and_prev_users_seq_df.select(\n",
    "                        'user_idx', 'user_session', 'session_start_ts', 'sess_seq_len',  'bef_sess_seq_length',  \n",
    "                        F.date_trunc('day', F.to_timestamp(F.col('session_start_ts'))).cast('string').substr(0,10).alias('session_start_date'), \n",
    "                        # Session sequences (first N interactions)\n",
    "                        'sess_pid_seq',\n",
    "                        'sess_etime_seq',\n",
    "                        'sess_etype_seq',\n",
    "                        'sess_csid_seq',\n",
    "                        'sess_ccid_seq',\n",
    "                        'sess_bid_seq',\n",
    "                        'sess_price_log_norm_seq',\n",
    "                        'sess_dtime_secs_seq',\n",
    "                        'sess_dtime_secs_log_norm_seq',\n",
    "                        'sess_prod_recency_days_seq',\n",
    "                        'sess_prod_recency_days_log_norm_seq',\n",
    "                        'sess_relative_price_to_avg_category_seq',\n",
    "                        'sess_et_hour_sin_seq', \n",
    "                        'sess_et_hour_cos_seq',\n",
    "                        'sess_et_month_sin_seq',\n",
    "                        'sess_et_month_cos_seq',\n",
    "                        'sess_et_dayofweek_sin_seq',\n",
    "                        'sess_et_dayofweek_cos_seq',\n",
    "                        'sess_et_dayofmonth_sin_seq',\n",
    "                        'sess_et_dayofmonth_cos_seq',\n",
    "                        'sess_session_reversed_order_seq',\n",
    "                         # Users sequences before session (last M interactions) \n",
    "                         'bef_sess_pid_seq',\n",
    "                         'bef_sess_etime_seq',\n",
    "                         'bef_sess_etype_seq',\n",
    "                         'bef_sess_csid_seq',\n",
    "                         'bef_sess_ccid_seq',\n",
    "                         'bef_sess_bid_seq',\n",
    "                         'bef_sess_price_log_norm_seq',\n",
    "                         'bef_sess_dtime_secs_seq',\n",
    "                         'bef_sess_dtime_secs_log_norm_seq',                         \n",
    "                         'bef_sess_prod_recency_days_seq',\n",
    "                         'bef_sess_prod_recency_days_log_norm_seq',   \n",
    "                         'bef_sess_relative_price_to_avg_category_seq',\n",
    "                         'bef_sess_et_hour_sin_seq',\n",
    "                         'bef_sess_et_hour_cos_seq',\n",
    "                         'bef_sess_et_month_sin_seq',\n",
    "                         'bef_sess_et_month_cos_seq',\n",
    "                         'bef_sess_et_dayofweek_sin_seq',\n",
    "                         'bef_sess_et_dayofweek_cos_seq',\n",
    "                         'bef_sess_et_dayofmonth_sin_seq',\n",
    "                         'bef_sess_et_dayofmonth_cos_seq',\n",
    "                         'bef_sess_session_reversed_order_seq',\n",
    "                    )"
   ]
  },
  {
   "cell_type": "code",
   "execution_count": 138,
   "metadata": {},
   "outputs": [
    {
     "name": "stdout",
     "output_type": "stream",
     "text": [
      "root\n",
      " |-- user_idx: integer (nullable = true)\n",
      " |-- user_session: string (nullable = true)\n",
      " |-- session_start_ts: long (nullable = true)\n",
      " |-- sess_seq_len: integer (nullable = false)\n",
      " |-- bef_sess_seq_length: integer (nullable = false)\n",
      " |-- session_start_date: string (nullable = true)\n",
      " |-- sess_pid_seq: array (nullable = true)\n",
      " |    |-- element: integer (containsNull = true)\n",
      " |-- sess_etime_seq: array (nullable = true)\n",
      " |    |-- element: long (containsNull = true)\n",
      " |-- sess_etype_seq: array (nullable = true)\n",
      " |    |-- element: integer (containsNull = true)\n",
      " |-- sess_csid_seq: array (nullable = true)\n",
      " |    |-- element: integer (containsNull = true)\n",
      " |-- sess_ccid_seq: array (nullable = true)\n",
      " |    |-- element: integer (containsNull = true)\n",
      " |-- sess_bid_seq: array (nullable = true)\n",
      " |    |-- element: integer (containsNull = true)\n",
      " |-- sess_price_log_norm_seq: array (nullable = true)\n",
      " |    |-- element: double (containsNull = true)\n",
      " |-- sess_dtime_secs_seq: array (nullable = true)\n",
      " |    |-- element: long (containsNull = true)\n",
      " |-- sess_dtime_secs_log_norm_seq: array (nullable = true)\n",
      " |    |-- element: double (containsNull = true)\n",
      " |-- sess_prod_recency_days_seq: array (nullable = true)\n",
      " |    |-- element: double (containsNull = true)\n",
      " |-- sess_prod_recency_days_log_norm_seq: array (nullable = true)\n",
      " |    |-- element: double (containsNull = true)\n",
      " |-- sess_relative_price_to_avg_category_seq: array (nullable = true)\n",
      " |    |-- element: double (containsNull = true)\n",
      " |-- sess_et_hour_sin_seq: array (nullable = true)\n",
      " |    |-- element: float (containsNull = true)\n",
      " |-- sess_et_hour_cos_seq: array (nullable = true)\n",
      " |    |-- element: float (containsNull = true)\n",
      " |-- sess_et_month_sin_seq: array (nullable = true)\n",
      " |    |-- element: float (containsNull = true)\n",
      " |-- sess_et_month_cos_seq: array (nullable = true)\n",
      " |    |-- element: float (containsNull = true)\n",
      " |-- sess_et_dayofweek_sin_seq: array (nullable = true)\n",
      " |    |-- element: float (containsNull = true)\n",
      " |-- sess_et_dayofweek_cos_seq: array (nullable = true)\n",
      " |    |-- element: float (containsNull = true)\n",
      " |-- sess_et_dayofmonth_sin_seq: array (nullable = true)\n",
      " |    |-- element: float (containsNull = true)\n",
      " |-- sess_et_dayofmonth_cos_seq: array (nullable = true)\n",
      " |    |-- element: float (containsNull = true)\n",
      " |-- sess_session_reversed_order_seq: array (nullable = true)\n",
      " |    |-- element: integer (containsNull = true)\n",
      " |-- bef_sess_pid_seq: array (nullable = true)\n",
      " |    |-- element: integer (containsNull = true)\n",
      " |-- bef_sess_etime_seq: array (nullable = true)\n",
      " |    |-- element: integer (containsNull = true)\n",
      " |-- bef_sess_etype_seq: array (nullable = true)\n",
      " |    |-- element: integer (containsNull = true)\n",
      " |-- bef_sess_csid_seq: array (nullable = true)\n",
      " |    |-- element: integer (containsNull = true)\n",
      " |-- bef_sess_ccid_seq: array (nullable = true)\n",
      " |    |-- element: integer (containsNull = true)\n",
      " |-- bef_sess_bid_seq: array (nullable = true)\n",
      " |    |-- element: integer (containsNull = true)\n",
      " |-- bef_sess_price_log_seq: array (nullable = true)\n",
      " |    |-- element: float (containsNull = true)\n",
      " |-- bef_sess_dtime_secs_seq: array (nullable = true)\n",
      " |    |-- element: float (containsNull = true)\n",
      " |-- bef_sess_dtime_secs_log_norm_seq: array (nullable = true)\n",
      " |    |-- element: float (containsNull = true)\n",
      " |-- bef_sess_prod_recency_days_seq: array (nullable = true)\n",
      " |    |-- element: float (containsNull = true)\n",
      " |-- bef_sess_prod_recency_days_log_norm_seq: array (nullable = true)\n",
      " |    |-- element: float (containsNull = true)\n",
      " |-- bef_sess_relative_price_to_avg_category_seq: array (nullable = true)\n",
      " |    |-- element: float (containsNull = true)\n",
      " |-- bef_sess_et_hour_sin_seq: array (nullable = true)\n",
      " |    |-- element: float (containsNull = true)\n",
      " |-- bef_sess_et_hour_cos_seq: array (nullable = true)\n",
      " |    |-- element: float (containsNull = true)\n",
      " |-- bef_sess_et_month_sin_seq: array (nullable = true)\n",
      " |    |-- element: float (containsNull = true)\n",
      " |-- bef_sess_et_month_cos_seq: array (nullable = true)\n",
      " |    |-- element: float (containsNull = true)\n",
      " |-- bef_sess_et_dayofweek_sin_seq: array (nullable = true)\n",
      " |    |-- element: float (containsNull = true)\n",
      " |-- bef_sess_et_dayofweek_cos_seq: array (nullable = true)\n",
      " |    |-- element: float (containsNull = true)\n",
      " |-- bef_sess_et_dayofmonth_sin_seq: array (nullable = true)\n",
      " |    |-- element: float (containsNull = true)\n",
      " |-- bef_sess_et_dayofmonth_cos_seq: array (nullable = true)\n",
      " |    |-- element: float (containsNull = true)\n",
      " |-- bef_sess_session_reversed_order_seq: array (nullable = true)\n",
      " |    |-- element: integer (containsNull = true)\n",
      "\n"
     ]
    }
   ],
   "source": [
    "sessions_users_seqs_to_export_df.printSchema()"
   ]
  },
  {
   "cell_type": "code",
   "execution_count": 139,
   "metadata": {},
   "outputs": [],
   "source": [
    "#sessions_users_seqs_to_export_df.show()"
   ]
  },
  {
   "cell_type": "markdown",
   "metadata": {},
   "source": [
    "#### Export dataset to parquet, partioned by the session date"
   ]
  },
  {
   "cell_type": "code",
   "execution_count": 140,
   "metadata": {},
   "outputs": [
    {
     "name": "stdout",
     "output_type": "stream",
     "text": [
      "CPU times: user 241 ms, sys: 217 ms, total: 457 ms\n",
      "Wall time: 15min 20s\n"
     ]
    }
   ],
   "source": [
    "%%time\n",
    "OUTPUT_PATH = '/mount/results/repeated_interactions={}/total_months={}'.format(KEEP_REPEATED_USER_INTERACTIONS, NUM_MONTHS_TO_PREPROCESS)\n",
    "sessions_users_seqs_to_export_df.repartition(F.col('session_start_date')) \\\n",
    "                .write.partitionBy('session_start_date') \\\n",
    "                .parquet(os.path.join(OUTPUT_PATH, 'ecommerce_preproc.parquet'))"
   ]
  },
  {
   "cell_type": "markdown",
   "metadata": {},
   "source": [
    "#### Check exported dataset"
   ]
  },
  {
   "cell_type": "code",
   "execution_count": 141,
   "metadata": {},
   "outputs": [],
   "source": [
    "check_df = spark.read.parquet(os.path.join(OUTPUT_PATH, 'ecommerce_preproc.parquet'))"
   ]
  },
  {
   "cell_type": "code",
   "execution_count": 142,
   "metadata": {},
   "outputs": [
    {
     "data": {
      "text/plain": [
       "[Row(user_idx=503175767, user_session='a0bd23ae-2ee8-4b0f-b628-437b9137ccc9', session_start_ts=1570938717, sess_seq_len=6, bef_sess_seq_length=1, sess_pid_seq=[19764, 23487, 20743, 30416, 19282, 48790], sess_etime_seq=[1570938717, 1570938775, 1570938826, 1570938875, 1570938890, 1570938930], sess_etype_seq=[2, 2, 2, 2, 2, 2], sess_csid_seq=[59, 59, 59, 59, 59, 59], sess_ccid_seq=[38, 38, 38, 38, 38, 38], sess_bid_seq=[80, 80, 80, 80, 80, 80], sess_price_log_norm_seq=[-0.051558973702671464, -0.19539975681449054, 0.22817432520591252, -0.187058017060996, -0.30135946042794687, 0.42666204410908015], sess_dtime_secs_seq=[63846, 58, 51, 49, 15, 40], sess_dtime_secs_log_norm_seq=[1.7985935567321982, -0.20214755077162974, -0.23831352027294844, -0.24954491844478394, -0.5758378156471834, -0.3063741122860863], sess_prod_recency_days_seq=[12.038055555555555, 11.815636574074073, 11.812222222222223, 11.476759259259259, 11.99837962962963, 11.054872685185185], sess_prod_recency_days_log_norm_seq=[0.11903417643765535, 0.09795292550113097, 0.09762646372279583, 0.06511959749432025, 0.11530010799970804, 0.022974363049449092], sess_relative_price_to_avg_category_seq=[0.2177648641403655, 0.013953346324094272, 0.7376812404326636, 0.024788668668456613, -0.11419001131873704, 1.2353896833249463], sess_et_hour_sin_seq=[0.7071067690849304, 0.7071067690849304, 0.7071067690849304, 0.7071067690849304, 0.7071067690849304, 0.7071067690849304], sess_et_hour_cos_seq=[0.7071067690849304, 0.7071067690849304, 0.7071067690849304, 0.7071067690849304, 0.7071067690849304, 0.7071067690849304], sess_et_month_sin_seq=[-0.8660253882408142, -0.8660253882408142, -0.8660253882408142, -0.8660253882408142, -0.8660253882408142, -0.8660253882408142], sess_et_month_cos_seq=[0.5, 0.5, 0.5, 0.5, 0.5, 0.5], sess_et_dayofweek_sin_seq=[0.7818315029144287, 0.7818315029144287, 0.7818315029144287, 0.7818315029144287, 0.7818315029144287, 0.7818315029144287], sess_et_dayofweek_cos_seq=[0.6234897971153259, 0.6234897971153259, 0.6234897971153259, 0.6234897971153259, 0.6234897971153259, 0.6234897971153259], sess_et_dayofmonth_sin_seq=[0.4853019714355469, 0.4853019714355469, 0.4853019714355469, 0.4853019714355469, 0.4853019714355469, 0.4853019714355469], sess_et_dayofmonth_cos_seq=[-0.8743466138839722, -0.8743466138839722, -0.8743466138839722, -0.8743466138839722, -0.8743466138839722, -0.8743466138839722], sess_session_reversed_order_seq=[1, 1, 1, 1, 1, 1, 1, 1, 1, 1, 1, 1, 1, 1, 1, 1, 1, 1, 1, 1], bef_sess_pid_seq=[4663], bef_sess_etime_seq=[1570874871], bef_sess_etype_seq=[2], bef_sess_csid_seq=[29], bef_sess_ccid_seq=[21], bef_sess_bid_seq=[157], bef_sess_price_log_seq=[1.357925534248352], bef_sess_dtime_secs_seq=[63846.0], bef_sess_dtime_secs_log_norm_seq=[1.798593521118164], bef_sess_prod_recency_days_seq=[12.072430610656738], bef_sess_prod_recency_days_log_norm_seq=[0.12226017564535141], bef_sess_relative_price_to_avg_category_seq=[0.27600860595703125], bef_sess_et_hour_sin_seq=[0.5], bef_sess_et_hour_cos_seq=[-0.8660253882408142], bef_sess_et_month_sin_seq=[-0.8660253882408142], bef_sess_et_month_cos_seq=[0.5], bef_sess_et_dayofweek_sin_seq=[8.97597907112413e-09], bef_sess_et_dayofweek_cos_seq=[1.0], bef_sess_et_dayofmonth_sin_seq=[0.651372492313385], bef_sess_et_dayofmonth_cos_seq=[-0.7587581276893616], bef_sess_session_reversed_order_seq=[2], session_start_date=datetime.date(2019, 10, 13)),\n",
       " Row(user_idx=512374750, user_session='ec7a7ce4-c92d-4307-a43d-e07b38ebf4ba', session_start_ts=1570984572, sess_seq_len=2, bef_sess_seq_length=15, sess_pid_seq=[633, 1176], sess_etime_seq=[1570984572, 1570984599], sess_etype_seq=[2, 2], sess_csid_seq=[7, 7], sess_ccid_seq=[7, 7], sess_bid_seq=[41, 280], sess_price_log_norm_seq=[-0.8632014398019928, -0.5219562138776559], sess_dtime_secs_seq=[431445, 27], sess_dtime_secs_log_norm_seq=[2.3457356204098074, -0.41558403053664145], sess_prod_recency_days_seq=[12.578356481481482, 12.581365740740742], sess_prod_recency_days_log_norm_seq=[0.16878293563067887, 0.1690544361544999], sess_relative_price_to_avg_category_seq=[-0.49818324471703657, -0.22215275697518214], sess_et_hour_sin_seq=[-0.8660253882408142, -0.8660253882408142], sess_et_hour_cos_seq=[-0.5, -0.5], sess_et_month_sin_seq=[-0.8660253882408142, -0.8660253882408142], sess_et_month_cos_seq=[0.5, 0.5], sess_et_dayofweek_sin_seq=[0.7818315029144287, 0.7818315029144287], sess_et_dayofweek_cos_seq=[0.6234897971153259, 0.6234897971153259], sess_et_dayofmonth_sin_seq=[0.4853019714355469, 0.4853019714355469], sess_et_dayofmonth_cos_seq=[-0.8743466138839722, -0.8743466138839722], sess_session_reversed_order_seq=[1, 1, 1, 1, 1, 1, 1, 1, 1, 1, 1, 1, 1, 1, 1, 1, 1, 1, 1, 1], bef_sess_pid_seq=[1869, 52037, 22155, 9917, 7488, 18920, 10049, 4190, 398, 538, 17848, 606, 7271, 11586, 7267], bef_sess_etime_seq=[1570366883, 1570366910, 1570366930, 1570366952, 1570366975, 1570366998, 1570367130, 1570367270, 1570368927, 1570369035, 1570369336, 1570369585, 1570369637, 1570552733, 1570553127], bef_sess_etype_seq=[2, 2, 2, 2, 2, 2, 2, 2, 2, 2, 2, 2, 2, 2, 2], bef_sess_csid_seq=[32, 32, 32, 32, 32, 32, 32, 32, 246, 246, 97, 51, 51, 32, 84], bef_sess_ccid_seq=[19, 19, 19, 19, 19, 19, 19, 19, 10, 10, 128, 30, 30, 19, 49], bef_sess_bid_seq=[306, 215, 71, 129, 1322, 71, 71, 20, 3446, 3446, 1699, 33, 33, 71, 663], bef_sess_price_log_seq=[-2.2320332527160645, -1.935004472732544, -1.848232626914978, -1.8229235410690308, -1.7700389623641968, -1.742171049118042, -1.3526750802993774, -0.4570605754852295, -1.424936294555664, -0.702494204044342, -1.9418967962265015, -0.5783572196960449, -0.4697974920272827, -1.6335914134979248, 1.5915573835372925], bef_sess_dtime_secs_seq=[653768.0, 68.0, 27.0], bef_sess_dtime_secs_log_norm_seq=[2.464751720428467, -0.15731181204319, -0.4155840277671814], bef_sess_prod_recency_days_seq=[29.488588333129883, 29.708251953125, 29.619247436523438, 29.609560012817383], bef_sess_prod_recency_days_log_norm_seq=[1.1598156690597534, 1.1686112880706787, 1.1650550365447998, 1.1646673679351807], bef_sess_relative_price_to_avg_category_seq=[-0.7936669588088989, -0.6875604391098022, -0.6482716798782349, -0.6359772086143494, -0.6089828610420227, -0.5940157175064087, -0.31899404525756836, 1.1670315265655518, -0.5172048807144165, 0.23355500400066376, -0.6982442140579224, -0.24965083599090576, -0.13777941465377808, -0.5304052233695984, 2.102353572845459], bef_sess_et_hour_sin_seq=[-0.258819043636322, -0.258819043636322, -0.258819043636322, -0.258819043636322, -0.258819043636322, -0.258819043636322, -0.258819043636322, -0.258819043636322, -0.258819043636322, -0.258819043636322, -0.258819043636322, -0.258819043636322, -0.258819043636322, -0.8660253882408142, -0.8660253882408142], bef_sess_et_hour_cos_seq=[-0.9659258127212524, -0.9659258127212524, -0.9659258127212524, -0.9659258127212524, -0.9659258127212524, -0.9659258127212524, -0.9659258127212524, -0.9659258127212524, -0.9659258127212524, -0.9659258127212524, -0.9659258127212524, -0.9659258127212524, -0.9659258127212524, -0.5, -0.5], bef_sess_et_month_sin_seq=[-0.8660253882408142, -0.8660253882408142, -0.8660253882408142, -0.8660253882408142, -0.8660253882408142, -0.8660253882408142, -0.8660253882408142, -0.8660253882408142, -0.8660253882408142, -0.8660253882408142, -0.8660253882408142, -0.8660253882408142, -0.8660253882408142, -0.8660253882408142, -0.8660253882408142], bef_sess_et_month_cos_seq=[0.5, 0.5, 0.5, 0.5, 0.5, 0.5, 0.5, 0.5, 0.5, 0.5, 0.5, 0.5, 0.5, 0.5, 0.5], bef_sess_et_dayofweek_sin_seq=[0.7818315029144287, 0.7818315029144287, 0.7818315029144287, 0.7818315029144287, 0.7818315029144287, 0.7818315029144287, 0.7818315029144287, 0.7818315029144287, 0.7818315029144287, 0.7818315029144287, 0.7818315029144287, 0.7818315029144287, 0.7818315029144287, 0.4338837265968323, 0.4338837265968323], bef_sess_et_dayofweek_cos_seq=[0.6234897971153259, 0.6234897971153259, 0.6234897971153259, 0.6234897971153259, 0.6234897971153259, 0.6234897971153259, 0.6234897971153259, 0.6234897971153259, 0.6234897971153259, 0.6234897971153259, 0.6234897971153259, 0.6234897971153259, 0.6234897971153259, -0.9009688496589661, -0.9009688496589661], bef_sess_et_dayofmonth_sin_seq=[0.9377521276473999, 0.9377521276473999, 0.9377521276473999, 0.9377521276473999, 0.9377521276473999, 0.9377521276473999, 0.9377521276473999, 0.9377521276473999, 0.9377521276473999, 0.9377521276473999, 0.9377521276473999, 0.9377521276473999, 0.9377521276473999, 0.9987165331840515, 0.9987165331840515], bef_sess_et_dayofmonth_cos_seq=[0.3473052382469177, 0.3473052382469177, 0.3473052382469177, 0.3473052382469177, 0.3473052382469177, 0.3473052382469177, 0.3473052382469177, 0.3473052382469177, 0.3473052382469177, 0.3473052382469177, 0.3473052382469177, 0.3473052382469177, 0.3473052382469177, -0.05064916983246803, -0.05064916983246803], bef_sess_session_reversed_order_seq=[6, 6, 6, 6, 6, 6, 6, 6, 5, 5, 4, 4, 4, 3, 2], session_start_date=datetime.date(2019, 10, 13)),\n",
       " Row(user_idx=512404663, user_session='a49c1432-bb3d-42d6-9d44-02cc3c9546d7', session_start_ts=1570961826, sess_seq_len=4, bef_sess_seq_length=7, sess_pid_seq=[7395, 6661, 30933, 2356], sess_etime_seq=[1570961826, 1570961846, 1570961870, 1570961886], sess_etype_seq=[2, 2, 2, 2], sess_csid_seq=[149, 149, 149, 149], sess_ccid_seq=[57, 57, 57, 57], sess_bid_seq=[4, 33, 22, 4], sess_price_log_norm_seq=[-1.5864249498893992, -1.6158856569171494, -0.7027572747336571, -1.5343536193332459], sess_dtime_secs_seq=[76283, 20, 24, 16], sess_dtime_secs_log_norm_seq=[1.8495587852127147, -0.4979658039117755, -0.4480372800224199, -0.5584771097371136], sess_prod_recency_days_seq=[12.226597222222223, 12.267835648148148, 12.101469907407408, 12.297962962962963], sess_prod_recency_days_log_norm_seq=[0.1366247308093367, 0.14043876157031668, 0.12497883751502349, 0.14321766928341015], sess_relative_price_to_avg_category_seq=[-0.25183629503681854, -0.2806272019087315, 1.3664525953886197, -0.19825321835853618], sess_et_hour_sin_seq=[0.5, 0.5, 0.5, 0.5], sess_et_hour_cos_seq=[-0.8660253882408142, -0.8660253882408142, -0.8660253882408142, -0.8660253882408142], sess_et_month_sin_seq=[-0.8660253882408142, -0.8660253882408142, -0.8660253882408142, -0.8660253882408142], sess_et_month_cos_seq=[0.5, 0.5, 0.5, 0.5], sess_et_dayofweek_sin_seq=[0.7818315029144287, 0.7818315029144287, 0.7818315029144287, 0.7818315029144287], sess_et_dayofweek_cos_seq=[0.6234897971153259, 0.6234897971153259, 0.6234897971153259, 0.6234897971153259], sess_et_dayofmonth_sin_seq=[0.4853019714355469, 0.4853019714355469, 0.4853019714355469, 0.4853019714355469], sess_et_dayofmonth_cos_seq=[-0.8743466138839722, -0.8743466138839722, -0.8743466138839722, -0.8743466138839722], sess_session_reversed_order_seq=[1, 1, 1, 1, 1, 1, 1, 1, 1, 1, 1, 1, 1, 1, 1, 1, 1, 1, 1, 1], bef_sess_pid_seq=[999, 9679, 36152, 7903, 4418, 3455, 12580], bef_sess_etime_seq=[1570352674, 1570353541, 1570706313, 1570706686, 1570707689, 1570875616, 1570885543], bef_sess_etype_seq=[2, 2, 2, 2, 2, 2, 2], bef_sess_csid_seq=[19, 10, 5, 5, 5, 10, 62], bef_sess_ccid_seq=[128, 10, 6, 6, 6, 10, 128], bef_sess_bid_seq=[225, 225, 3446, 8, 504, 7, 33], bef_sess_price_log_seq=[0.9900798797607422, 1.391419529914856, 0.7424255609512329, 1.291462779045105, 0.7702916264533997, 0.7654884457588196, -1.9597163200378418], bef_sess_dtime_secs_seq=[623592.0], bef_sess_dtime_secs_log_norm_seq=[2.451219320297241], bef_sess_prod_recency_days_seq=[29.556482315063477, 28.37013816833496], bef_sess_prod_recency_days_log_norm_seq=[1.1625409126281738, 1.1140251159667969], bef_sess_relative_price_to_avg_category_seq=[8.281656265258789, 3.8393337726593018, -0.20543445646762848, 0.5918616056442261, -0.17689178884029388, 1.1917533874511719, -0.6331835985183716], bef_sess_et_hour_sin_seq=[0.7071067690849304, 0.7071067690849304, 0.258819043636322, 0.258819043636322, 0.258819043636322, 0.5, -0.258819043636322], bef_sess_et_hour_cos_seq=[-0.7071067690849304, -0.7071067690849304, -0.9659258127212524, -0.9659258127212524, -0.9659258127212524, -0.8660253882408142, -0.9659258127212524], bef_sess_et_month_sin_seq=[-0.8660253882408142, -0.8660253882408142, -0.8660253882408142, -0.8660253882408142, -0.8660253882408142, -0.8660253882408142, -0.8660253882408142], bef_sess_et_month_cos_seq=[0.5, 0.5, 0.5, 0.5, 0.5, 0.5, 0.5], bef_sess_et_dayofweek_sin_seq=[0.7818315029144287, 0.7818315029144287, -0.9749279022216797, -0.9749279022216797, -0.9749279022216797, 8.97597907112413e-09, 8.97597907112413e-09], bef_sess_et_dayofweek_cos_seq=[0.6234897971153259, 0.6234897971153259, -0.22252093255519867, -0.22252093255519867, -0.22252093255519867, 1.0, 1.0], bef_sess_et_dayofmonth_sin_seq=[0.9377521276473999, 0.9377521276473999, 0.8978045582771301, 0.8978045582771301, 0.8978045582771301, 0.651372492313385, 0.651372492313385], bef_sess_et_dayofmonth_cos_seq=[0.3473052382469177, 0.3473052382469177, -0.44039416313171387, -0.44039416313171387, -0.44039416313171387, -0.7587581276893616, -0.7587581276893616], bef_sess_session_reversed_order_seq=[8, 7, 6, 5, 4, 3, 2], session_start_date=datetime.date(2019, 10, 13)),\n",
       " Row(user_idx=512418224, user_session='94ef4c32-b97c-47fd-8e59-70be68b013cf', session_start_ts=1570955519, sess_seq_len=8, bef_sess_seq_length=19, sess_pid_seq=[2099, 916, 4052, 674, 8896, 15043, 13443, 15962], sess_etime_seq=[1570955519, 1570955548, 1570955607, 1570955692, 1570955828, 1570955857, 1570956104, 1570956304], sess_etype_seq=[2, 2, 2, 2, 2, 2, 2, 2], sess_csid_seq=[15, 15, 15, 15, 23, 23, 26, 23], sess_ccid_seq=[128, 128, 128, 128, 14, 14, 16, 14], sess_bid_seq=[25, 3446, 3446, 42, 25, 3446, 3446, 25], sess_price_log_norm_seq=[1.458082524164928, 1.0202262895007446, 1.2752141921400377, 1.1081234216968592, -0.3039783741172842, 0.3978745575852914, 1.163901997782327, 0.17317809730586695], sess_dtime_secs_seq=[158122, 29, 59, 85, 136, 29, 247, 200], sess_dtime_secs_log_norm_seq=[2.058292326995578, -0.39582695963229975, -0.19733459805466397, -0.09424279467378066, 0.03909788874293396, -0.39582695963229975, 0.20903994814308205, 0.14886805677694348], sess_prod_recency_days_seq=[12.246493055555556, 12.242881944444445, 12.183599537037036, 12.245601851851852, 12.155752314814816, 12.2453125, 12.200381944444445, 10.99045138888889], sess_prod_recency_days_log_norm_seq=[0.13846632511630969, 0.1381322796890094, 0.13263530667181203, 0.13838389288245975, 0.13004462920961318, 0.1383571279774669, 0.1341939630220538, 0.016409340043420748], sess_relative_price_to_avg_category_seq=[0.5506582542250351, -0.1088167083320809, 0.23048130839140918, -0.003970625081231646, -0.573597414725235, 0.04094303909048019, 1.3360136723346472, -0.21734646686964726], sess_et_hour_sin_seq=[0.8660253882408142, 0.8660253882408142, 0.8660253882408142, 0.8660253882408142, 0.8660253882408142, 0.8660253882408142, 0.8660253882408142, 0.8660253882408142], sess_et_hour_cos_seq=[-0.5, -0.5, -0.5, -0.5, -0.5, -0.5, -0.5, -0.5], sess_et_month_sin_seq=[-0.8660253882408142, -0.8660253882408142, -0.8660253882408142, -0.8660253882408142, -0.8660253882408142, -0.8660253882408142, -0.8660253882408142, -0.8660253882408142], sess_et_month_cos_seq=[0.5, 0.5, 0.5, 0.5, 0.5, 0.5, 0.5, 0.5], sess_et_dayofweek_sin_seq=[0.7818315029144287, 0.7818315029144287, 0.7818315029144287, 0.7818315029144287, 0.7818315029144287, 0.7818315029144287, 0.7818315029144287, 0.7818315029144287], sess_et_dayofweek_cos_seq=[0.6234897971153259, 0.6234897971153259, 0.6234897971153259, 0.6234897971153259, 0.6234897971153259, 0.6234897971153259, 0.6234897971153259, 0.6234897971153259], sess_et_dayofmonth_sin_seq=[0.4853019714355469, 0.4853019714355469, 0.4853019714355469, 0.4853019714355469, 0.4853019714355469, 0.4853019714355469, 0.4853019714355469, 0.4853019714355469], sess_et_dayofmonth_cos_seq=[-0.8743466138839722, -0.8743466138839722, -0.8743466138839722, -0.8743466138839722, -0.8743466138839722, -0.8743466138839722, -0.8743466138839722, -0.8743466138839722], sess_session_reversed_order_seq=[1, 1, 1, 1, 1, 1, 1, 1, 1, 1, 1, 1, 1, 1, 1, 1, 1, 1, 1, 1], bef_sess_pid_seq=[1152, 1595, 6696, 9945, 55038, 5178, 12074, 4078, 15256, 21969, 6964, 36775, 32876, 3567, 40043, 1069, 3536, 10466, 11679], bef_sess_etime_seq=[1570712208, 1570712262, 1570712596, 1570712727, 1570713232, 1570713391, 1570713482, 1570713576, 1570713713, 1570713881, 1570713979, 1570714098, 1570714131, 1570714170, 1570714378, 1570714728, 1570796945, 1570797202, 1570797397], bef_sess_etype_seq=[2, 2, 2, 2, 2, 2, 2, 2, 2, 2, 2, 2, 2, 2, 2, 2, 2, 2, 2], bef_sess_csid_seq=[15, 15, 23, 337, 337, 238, 286, 286, 286, 286, 286, 509, 509, 189, 186, 15, 26, 345, 120], bef_sess_ccid_seq=[128, 128, 14, 128, 128, 128, 128, 128, 128, 128, 128, 128, 128, 128, 128, 128, 16, 14, 128], bef_sess_bid_seq=[3446, 677, 25, 3446, 3446, 1139, 199, 199, 199, 3446, 199, 2255, 443, 3446, 76, 95, 25, 25, 25], bef_sess_price_log_seq=[1.2947086095809937, 1.6596503257751465, 0.7655501961708069, -2.68672251701355, -1.2917033433914185, -1.8499116897583008, -0.8932464718818665, -1.3458285331726074, -0.49539676308631897, -3.9464786052703857, -0.8114442825317383, -1.5143009424209595, -2.74353289604187, -1.1150484085083008, -0.937640905380249, 0.8829845190048218, 0.8645430207252502, -0.4645223319530487, 0.0830976590514183], bef_sess_dtime_secs_seq=[806677.0, 39.0, 307.0, 79.0, 57.0, 46.0, 14.0, 60.0, 58.0, 179.0], bef_sess_dtime_secs_log_norm_seq=[2.524937152862549, -0.31344518065452576, 0.271086722612381, -0.11495282500982285, -0.20704278349876404, -0.267263799905777, -0.5943193435668945, -0.19260120391845703, -0.20214754343032837, 0.11726835370063782], bef_sess_prod_recency_days_seq=[29.409109115600586], bef_sess_prod_recency_days_log_norm_seq=[1.1566176414489746], bef_sess_relative_price_to_avg_category_seq=[0.26119956374168396, 1.0007777214050293, 0.6588137745857239, -0.7826210260391235, 0.5344399213790894, -0.6276506185531616, 0.36889198422431946, -0.2400299459695816, 1.2819793224334717, -1.0, 0.5211224555969238, -0.1277017444372177, -0.8487564325332642, -0.15225403010845184, -0.1713121086359024, -0.250928670167923, 0.5993280410766602, -0.10409703850746155, -0.07423942536115646], bef_sess_et_hour_sin_seq=[-2.6179940437742744e-09, -2.6179940437742744e-09, -0.258819043636322, -0.258819043636322, -0.258819043636322, -0.258819043636322, -0.258819043636322, -0.258819043636322, -0.258819043636322, -0.258819043636322, -0.258819043636322, -0.258819043636322, -0.258819043636322, -0.258819043636322, -0.258819043636322, -0.258819043636322, -2.6179940437742744e-09, -2.6179940437742744e-09, -2.6179940437742744e-09], bef_sess_et_hour_cos_seq=[-1.0, -1.0, -0.9659258127212524, -0.9659258127212524, -0.9659258127212524, -0.9659258127212524, -0.9659258127212524, -0.9659258127212524, -0.9659258127212524, -0.9659258127212524, -0.9659258127212524, -0.9659258127212524, -0.9659258127212524, -0.9659258127212524, -0.9659258127212524, -0.9659258127212524, -1.0, -1.0, -1.0], bef_sess_et_month_sin_seq=[-0.8660253882408142, -0.8660253882408142, -0.8660253882408142, -0.8660253882408142, -0.8660253882408142, -0.8660253882408142, -0.8660253882408142, -0.8660253882408142, -0.8660253882408142, -0.8660253882408142, -0.8660253882408142, -0.8660253882408142, -0.8660253882408142, -0.8660253882408142, -0.8660253882408142, -0.8660253882408142, -0.8660253882408142, -0.8660253882408142, -0.8660253882408142], bef_sess_et_month_cos_seq=[0.5, 0.5, 0.5, 0.5, 0.5, 0.5, 0.5, 0.5, 0.5, 0.5, 0.5, 0.5, 0.5, 0.5, 0.5, 0.5, 0.5, 0.5, 0.5], bef_sess_et_dayofweek_sin_seq=[-0.9749279022216797, -0.9749279022216797, -0.9749279022216797, -0.9749279022216797, -0.9749279022216797, -0.9749279022216797, -0.9749279022216797, -0.9749279022216797, -0.9749279022216797, -0.9749279022216797, -0.9749279022216797, -0.9749279022216797, -0.9749279022216797, -0.9749279022216797, -0.9749279022216797, -0.9749279022216797, -0.7818315029144287, -0.7818315029144287, -0.7818315029144287], bef_sess_et_dayofweek_cos_seq=[-0.22252093255519867, -0.22252093255519867, -0.22252093255519867, -0.22252093255519867, -0.22252093255519867, -0.22252093255519867, -0.22252093255519867, -0.22252093255519867, -0.22252093255519867, -0.22252093255519867, -0.22252093255519867, -0.22252093255519867, -0.22252093255519867, -0.22252093255519867, -0.22252093255519867, -0.22252093255519867, 0.6234897971153259, 0.6234897971153259, 0.6234897971153259], bef_sess_et_dayofmonth_sin_seq=[0.8978045582771301, 0.8978045582771301, 0.8978045582771301, 0.8978045582771301, 0.8978045582771301, 0.8978045582771301, 0.8978045582771301, 0.8978045582771301, 0.8978045582771301, 0.8978045582771301, 0.8978045582771301, 0.8978045582771301, 0.8978045582771301, 0.8978045582771301, 0.8978045582771301, 0.8978045582771301, 0.790775716304779, 0.790775716304779, 0.790775716304779], bef_sess_et_dayofmonth_cos_seq=[-0.44039416313171387, -0.44039416313171387, -0.44039416313171387, -0.44039416313171387, -0.44039416313171387, -0.44039416313171387, -0.44039416313171387, -0.44039416313171387, -0.44039416313171387, -0.44039416313171387, -0.44039416313171387, -0.44039416313171387, -0.44039416313171387, -0.44039416313171387, -0.44039416313171387, -0.44039416313171387, -0.6121059656143188, -0.6121059656143188, -0.6121059656143188], bef_sess_session_reversed_order_seq=[3, 3, 3, 3, 3, 3, 3, 3, 3, 3, 3, 3, 3, 3, 3, 3, 2, 2, 2], session_start_date=datetime.date(2019, 10, 13)),\n",
       " Row(user_idx=512456873, user_session='c20d9977-379d-4518-a4e4-31bdc0c175bc', session_start_ts=1570965330, sess_seq_len=5, bef_sess_seq_length=9, sess_pid_seq=[25, 27, 95, 72, 99], sess_etime_seq=[1570965330, 1570965350, 1570965393, 1570965434, 1570965451], sess_etype_seq=[2, 2, 2, 2, 2], sess_csid_seq=[2, 2, 2, 2, 2], sess_ccid_seq=[2, 2, 2, 2, 2], sess_bid_seq=[5, 5, 5, 5, 5], sess_price_log_norm_seq=[0.509908022213758, 0.12158615486782476, 0.1208428072621225, 0.4347698319730838, 0.42675679945742356], sess_dtime_secs_seq=[1014916, 20, 43, 41, 17], sess_dtime_secs_log_norm_seq=[2.5906969972230645, -0.4979658039117755, -0.28615178710279465, -0.2994734423341396, -0.5421090008198157], sess_prod_recency_days_seq=[12.468125, 12.395983796296296, 12.370428240740742, 12.373576388888889, 12.469293981481481], sess_prod_recency_days_log_norm_seq=[0.1587959675399037, 0.15221562685228482, 0.1498760803181173, 0.15016452671158856, 0.1589023054299245], sess_relative_price_to_avg_category_seq=[-0.4485706292190234, -0.6631236040661816, -0.6634416370101833, -0.49868069495829387, -0.5037493450033212], sess_et_hour_sin_seq=[0.258819043636322, 0.258819043636322, 0.258819043636322, 0.258819043636322, 0.258819043636322], sess_et_hour_cos_seq=[-0.9659258127212524, -0.9659258127212524, -0.9659258127212524, -0.9659258127212524, -0.9659258127212524], sess_et_month_sin_seq=[-0.8660253882408142, -0.8660253882408142, -0.8660253882408142, -0.8660253882408142, -0.8660253882408142], sess_et_month_cos_seq=[0.5, 0.5, 0.5, 0.5, 0.5], sess_et_dayofweek_sin_seq=[0.7818315029144287, 0.7818315029144287, 0.7818315029144287, 0.7818315029144287, 0.7818315029144287], sess_et_dayofweek_cos_seq=[0.6234897971153259, 0.6234897971153259, 0.6234897971153259, 0.6234897971153259, 0.6234897971153259], sess_et_dayofmonth_sin_seq=[0.4853019714355469, 0.4853019714355469, 0.4853019714355469, 0.4853019714355469, 0.4853019714355469], sess_et_dayofmonth_cos_seq=[-0.8743466138839722, -0.8743466138839722, -0.8743466138839722, -0.8743466138839722, -0.8743466138839722], sess_session_reversed_order_seq=[1, 1, 1, 1, 1, 1, 1, 1, 1, 1, 1, 1, 1, 1, 1, 1, 1, 1, 1, 1], bef_sess_pid_seq=[12, 51, 127, 234, 118, 598, 2453, 544, 2302], bef_sess_etime_seq=[1569950096, 1569950154, 1569950166, 1569950207, 1569950233, 1569950268, 1569950351, 1569950402, 1569950414], bef_sess_etype_seq=[2, 2, 2, 2, 2, 2, 2, 2, 2], bef_sess_csid_seq=[2, 2, 2, 2, 2, 2, 2, 2, 2], bef_sess_ccid_seq=[2, 2, 2, 2, 2, 2, 2, 2, 2], bef_sess_bid_seq=[2, 2, 2, 5, 5, 5, 2, 2, 2], bef_sess_price_log_seq=[0.7755336165428162, 0.45006608963012695, 0.5357822179794312, 0.7107015252113342, 0.9518063068389893, 1.1317671537399292, 1.234928011894226, 1.2636889219284058, 1.2636889219284058], bef_sess_dtime_secs_seq=[1014916.0, 20.0, 43.0, 41.0, 17.0], bef_sess_dtime_secs_log_norm_seq=[2.5906970500946045, -0.49796581268310547, -0.28615179657936096, -0.29947343468666077, -0.5421090126037598], bef_sess_prod_recency_days_seq=[29.009977340698242], bef_sess_prod_recency_days_log_norm_seq=[1.1404298543930054], bef_sess_relative_price_to_avg_category_seq=[-0.22793526947498322, -0.48886144161224365, -0.43018436431884766, -0.28879883885383606, -0.03488927707076073, 0.21194404363632202, 0.380899041891098, 0.4320625960826874, 0.4320625960826874], bef_sess_et_hour_sin_seq=[-0.9659258127212524, -0.9659258127212524, -0.9659258127212524, -0.9659258127212524, -0.9659258127212524, -0.9659258127212524, -0.9659258127212524, -0.9659258127212524, -0.9659258127212524], bef_sess_et_hour_cos_seq=[-0.258819043636322, -0.258819043636322, -0.258819043636322, -0.258819043636322, -0.258819043636322, -0.258819043636322, -0.258819043636322, -0.258819043636322, -0.258819043636322], bef_sess_et_month_sin_seq=[-0.8660253882408142, -0.8660253882408142, -0.8660253882408142, -0.8660253882408142, -0.8660253882408142, -0.8660253882408142, -0.8660253882408142, -0.8660253882408142, -0.8660253882408142], bef_sess_et_month_cos_seq=[0.5, 0.5, 0.5, 0.5, 0.5, 0.5, 0.5, 0.5, 0.5], bef_sess_et_dayofweek_sin_seq=[0.4338837265968323, 0.4338837265968323, 0.4338837265968323, 0.4338837265968323, 0.4338837265968323, 0.4338837265968323, 0.4338837265968323, 0.4338837265968323, 0.4338837265968323], bef_sess_et_dayofweek_cos_seq=[-0.9009688496589661, -0.9009688496589661, -0.9009688496589661, -0.9009688496589661, -0.9009688496589661, -0.9009688496589661, -0.9009688496589661, -0.9009688496589661, -0.9009688496589661], bef_sess_et_dayofmonth_sin_seq=[0.2012985199689865, 0.2012985199689865, 0.2012985199689865, 0.2012985199689865, 0.2012985199689865, 0.2012985199689865, 0.2012985199689865, 0.2012985199689865, 0.2012985199689865], bef_sess_et_dayofmonth_cos_seq=[0.9795299172401428, 0.9795299172401428, 0.9795299172401428, 0.9795299172401428, 0.9795299172401428, 0.9795299172401428, 0.9795299172401428, 0.9795299172401428, 0.9795299172401428], bef_sess_session_reversed_order_seq=[2, 2, 2, 2, 2, 2, 2, 2, 2], session_start_date=datetime.date(2019, 10, 13)),\n",
       " Row(user_idx=512461750, user_session='51cd3cc5-6d95-4e8a-8c40-94ab91fe5c2f', session_start_ts=1570959351, sess_seq_len=2, bef_sess_seq_length=5, sess_pid_seq=[60, 26089], sess_etime_seq=[1570959351, 1570959376], sess_etype_seq=[2, 2], sess_csid_seq=[10, 10], sess_ccid_seq=[10, 10], sess_bid_seq=[2, 23], sess_price_log_norm_seq=[-0.6415181414393342, -1.4259195175423192], sess_dtime_secs_seq=[1027807, 25], sess_dtime_secs_log_norm_seq=[2.5943113521948296, -0.43680588185058433], sess_prod_recency_days_seq=[12.299236111111112, 12.258009259259259], sess_prod_recency_days_log_norm_seq=[0.14333496426394826, 0.13953102228776523], sess_relative_price_to_avg_category_seq=[-0.6341267531278079, -0.867755280652569], sess_et_hour_sin_seq=[0.7071067690849304, 0.7071067690849304], sess_et_hour_cos_seq=[-0.7071067690849304, -0.7071067690849304], sess_et_month_sin_seq=[-0.8660253882408142, -0.8660253882408142], sess_et_month_cos_seq=[0.5, 0.5], sess_et_dayofweek_sin_seq=[0.7818315029144287, 0.7818315029144287], sess_et_dayofweek_cos_seq=[0.6234897971153259, 0.6234897971153259], sess_et_dayofmonth_sin_seq=[0.4853019714355469, 0.4853019714355469], sess_et_dayofmonth_cos_seq=[-0.8743466138839722, -0.8743466138839722], sess_session_reversed_order_seq=[1, 1, 1, 1, 1, 1, 1, 1, 1, 1, 1, 1, 1, 1, 1, 1, 1, 1, 1, 1], bef_sess_pid_seq=[251, 253, 49, 9, 23], bef_sess_etime_seq=[1569931417, 1569931448, 1569931513, 1569931535, 1569931544], bef_sess_etype_seq=[2, 2, 2, 2, 2], bef_sess_csid_seq=[11, 11, 2, 2, 2], bef_sess_ccid_seq=[3, 3, 2, 2, 2], bef_sess_bid_seq=[2, 2, 2, 2, 2], bef_sess_price_log_seq=[0.4586975872516632, 0.4586975872516632, 1.671073079109192, 0.5362774133682251, 1.3336108922958374], bef_sess_dtime_secs_seq=[1027807.0, 25.0], bef_sess_dtime_secs_log_norm_seq=[2.594311237335205, -0.4368058741092682], bef_sess_prod_recency_days_seq=[12.333136558532715, 12.306562423706055, 12.303946495056152, 12.269919395446777, 3.1582870483398438], bef_sess_prod_recency_days_log_norm_seq=[0.1464540809392929, 0.14400972425937653, 0.14376886188983917, 0.14063112437725067, -1.2810847759246826], bef_sess_relative_price_to_avg_category_seq=[-0.22236692905426025, -0.22236692905426025, 1.3971136808395386, -0.429826557636261, 0.5644835829734802], bef_sess_et_hour_sin_seq=[-2.6179940437742744e-09, -2.6179940437742744e-09, -2.6179940437742744e-09, -2.6179940437742744e-09, -2.6179940437742744e-09], bef_sess_et_hour_cos_seq=[-1.0, -1.0, -1.0, -1.0, -1.0], bef_sess_et_month_sin_seq=[-0.8660253882408142, -0.8660253882408142, -0.8660253882408142, -0.8660253882408142, -0.8660253882408142], bef_sess_et_month_cos_seq=[0.5, 0.5, 0.5, 0.5, 0.5], bef_sess_et_dayofweek_sin_seq=[0.4338837265968323, 0.4338837265968323, 0.4338837265968323, 0.4338837265968323, 0.4338837265968323], bef_sess_et_dayofweek_cos_seq=[-0.9009688496589661, -0.9009688496589661, -0.9009688496589661, -0.9009688496589661, -0.9009688496589661], bef_sess_et_dayofmonth_sin_seq=[0.2012985199689865, 0.2012985199689865, 0.2012985199689865, 0.2012985199689865, 0.2012985199689865], bef_sess_et_dayofmonth_cos_seq=[0.9795299172401428, 0.9795299172401428, 0.9795299172401428, 0.9795299172401428, 0.9795299172401428], bef_sess_session_reversed_order_seq=[2, 2, 2, 2, 2], session_start_date=datetime.date(2019, 10, 13)),\n",
       " Row(user_idx=512461750, user_session='f242bbe8-1671-467d-b3cb-4ea42499d32d', session_start_ts=1570959448, sess_seq_len=6, bef_sess_seq_length=7, sess_pid_seq=[74, 329, 484, 673, 452, 534], sess_etime_seq=[1570959448, 1570959565, 1570959586, 1570959602, 1570959614, 1570959637], sess_etype_seq=[2, 2, 2, 2, 2, 2], sess_csid_seq=[2, 2, 2, 2, 2, 2], sess_ccid_seq=[2, 2, 2, 2, 2, 2], sess_bid_seq=[2, 2, 2, 2, 2, 2], sess_price_log_norm_seq=[1.4001028846667494, 1.676355154885322, 1.673345799498285, 1.5558220015206952, 1.866758925968824, 1.701561974198494], sess_dtime_secs_seq=[72, 117, 21, 16, 12, 23], sess_dtime_secs_log_norm_seq=[-0.14117436751438409, -0.0036551891939938254, -0.48464414868043043, -0.5584771097371136, -0.6352982434282203, -0.45972722744468153], sess_prod_recency_days_seq=[12.333136574074073, 12.3065625, 12.30394675925926, 12.269918981481482, 3.158287037037037, 12.295810185185186], sess_prod_recency_days_log_norm_seq=[0.14645408648453492, 0.14400972541050228, 0.14376885807939105, 0.14063112874995398, -1.2810847426874963, 0.143019308583819], sess_relative_price_to_avg_category_seq=[0.7017346521761858, 1.4131743479080259, 1.4040110237089767, 1.072084015466185, 2.069852746094571, 1.4913110668374476], sess_et_hour_sin_seq=[0.7071067690849304, 0.7071067690849304, 0.7071067690849304, 0.7071067690849304, 0.7071067690849304, 0.7071067690849304], sess_et_hour_cos_seq=[-0.7071067690849304, -0.7071067690849304, -0.7071067690849304, -0.7071067690849304, -0.7071067690849304, -0.7071067690849304], sess_et_month_sin_seq=[-0.8660253882408142, -0.8660253882408142, -0.8660253882408142, -0.8660253882408142, -0.8660253882408142, -0.8660253882408142], sess_et_month_cos_seq=[0.5, 0.5, 0.5, 0.5, 0.5, 0.5], sess_et_dayofweek_sin_seq=[0.7818315029144287, 0.7818315029144287, 0.7818315029144287, 0.7818315029144287, 0.7818315029144287, 0.7818315029144287], sess_et_dayofweek_cos_seq=[0.6234897971153259, 0.6234897971153259, 0.6234897971153259, 0.6234897971153259, 0.6234897971153259, 0.6234897971153259], sess_et_dayofmonth_sin_seq=[0.4853019714355469, 0.4853019714355469, 0.4853019714355469, 0.4853019714355469, 0.4853019714355469, 0.4853019714355469], sess_et_dayofmonth_cos_seq=[-0.8743466138839722, -0.8743466138839722, -0.8743466138839722, -0.8743466138839722, -0.8743466138839722, -0.8743466138839722], sess_session_reversed_order_seq=[1, 1, 1, 1, 1, 1, 1, 1, 1, 1, 1, 1, 1, 1, 1, 1, 1, 1, 1, 1], bef_sess_pid_seq=[251, 253, 49, 9, 23, 60, 26089], bef_sess_etime_seq=[1569931417, 1569931448, 1569931513, 1569931535, 1569931544, 1570959351, 1570959376], bef_sess_etype_seq=[2, 2, 2, 2, 2, 2, 2], bef_sess_csid_seq=[11, 11, 2, 2, 2, 10, 10], bef_sess_ccid_seq=[3, 3, 2, 2, 2, 10, 10], bef_sess_bid_seq=[2, 2, 2, 2, 2, 2, 23], bef_sess_price_log_seq=[0.4586975872516632, 0.4586975872516632, 1.671073079109192, 0.5362774133682251, 1.3336108922958374, -0.6415181159973145, -1.425919532775879], bef_sess_dtime_secs_seq=[1027807.0, 25.0], bef_sess_dtime_secs_log_norm_seq=[2.594311237335205, -0.4368058741092682], bef_sess_prod_recency_days_seq=[12.333136558532715, 12.306562423706055, 12.303946495056152, 12.269919395446777, 3.1582870483398438, 12.295809745788574], bef_sess_prod_recency_days_log_norm_seq=[0.1464540809392929, 0.14400972425937653, 0.14376886188983917, 0.14063112437725067, -1.2810847759246826, 0.14301930367946625], bef_sess_relative_price_to_avg_category_seq=[-0.22236692905426025, -0.22236692905426025, 1.3971136808395386, -0.429826557636261, 0.5644835829734802, -0.6341267824172974, -0.8677552938461304], bef_sess_et_hour_sin_seq=[-2.6179940437742744e-09, -2.6179940437742744e-09, -2.6179940437742744e-09, -2.6179940437742744e-09, -2.6179940437742744e-09, 0.7071067690849304, 0.7071067690849304], bef_sess_et_hour_cos_seq=[-1.0, -1.0, -1.0, -1.0, -1.0, -0.7071067690849304, -0.7071067690849304], bef_sess_et_month_sin_seq=[-0.8660253882408142, -0.8660253882408142, -0.8660253882408142, -0.8660253882408142, -0.8660253882408142, -0.8660253882408142, -0.8660253882408142], bef_sess_et_month_cos_seq=[0.5, 0.5, 0.5, 0.5, 0.5, 0.5, 0.5], bef_sess_et_dayofweek_sin_seq=[0.4338837265968323, 0.4338837265968323, 0.4338837265968323, 0.4338837265968323, 0.4338837265968323, 0.7818315029144287, 0.7818315029144287], bef_sess_et_dayofweek_cos_seq=[-0.9009688496589661, -0.9009688496589661, -0.9009688496589661, -0.9009688496589661, -0.9009688496589661, 0.6234897971153259, 0.6234897971153259], bef_sess_et_dayofmonth_sin_seq=[0.2012985199689865, 0.2012985199689865, 0.2012985199689865, 0.2012985199689865, 0.2012985199689865, 0.4853019714355469, 0.4853019714355469], bef_sess_et_dayofmonth_cos_seq=[0.9795299172401428, 0.9795299172401428, 0.9795299172401428, 0.9795299172401428, 0.9795299172401428, -0.8743466138839722, -0.8743466138839722], bef_sess_session_reversed_order_seq=[3, 3, 3, 3, 3, 2, 2], session_start_date=datetime.date(2019, 10, 13)),\n",
       " Row(user_idx=512473397, user_session='719e5298-0991-4f86-9395-266144dbf430', session_start_ts=1570985857, sess_seq_len=10, bef_sess_seq_length=20, sess_pid_seq=[39, 418, 34, 4727, 2327, 6573, 6496, 11695, 16320, 7903], sess_etime_seq=[1570985857, 1570985943, 1570986029, 1570986232, 1570986893, 1570987023, 1570987119, 1570987491, 1570987513, 1570987594], sess_etype_seq=[2, 2, 2, 2, 2, 2, 2, 2, 2, 2], sess_csid_seq=[5, 5, 5, 5, 5, 5, 5, 5, 5, 5], sess_ccid_seq=[6, 6, 6, 6, 6, 6, 6, 6, 6, 6], sess_bid_seq=[16, 121, 2, 8, 8, 8, 2, 8, 8, 8], sess_price_log_norm_seq=[0.02641774765671255, 0.7439926160214212, 0.7358268820576588, 1.0548433870142437, 1.108470596403705, 1.204468034223698, 1.1404947273815997, 1.0730187117087109, 1.368011789928018, 1.2914521252016689], sess_dtime_secs_seq=[43085, 86, 86, 203, 661, 130, 96, 372, 22, 81], sess_dtime_secs_log_norm_seq=[1.6859690573104589, -0.0909321919554438, -0.0909321919554438, 0.15311056319829572, 0.4902026110252505, 0.026273479591905603, -0.05977497570543708, 0.3259192990776247, -0.4719147665572205, -0.10788175070845037], sess_prod_recency_days_seq=[12.60818287037037, 12.699467592592592, 12.702175925925927, 12.540208333333334, 12.582766203703704, 12.470914351851851, 12.608229166666666, 12.554143518518519, 12.508900462962963, 12.566921296296297], sess_prod_recency_days_log_norm_seq=[0.1714712701596075, 0.17966255011525087, 0.17990474328585823, 0.16533591856430102, 0.16918076780941807, 0.15904968922399013, 0.171475438390481, 0.16659620831632735, 0.16249971663171647, 0.16775068459788967], sess_relative_price_to_avg_category_seq=[-0.6796523025332057, -0.20385586887139745, -0.2120474860936954, 0.18004085907775533, 0.26289565410745697, 0.4259813667753429, 0.31511721389960673, 0.20749557617436346, 0.7536887203402954, 0.5918402831903609], sess_et_hour_sin_seq=[-0.8660253882408142, -0.8660253882408142, -0.9659258127212524, -0.9659258127212524, -0.9659258127212524, -0.9659258127212524, -0.9659258127212524, -0.9659258127212524, -0.9659258127212524, -0.9659258127212524], sess_et_hour_cos_seq=[-0.5, -0.5, -0.258819043636322, -0.258819043636322, -0.258819043636322, -0.258819043636322, -0.258819043636322, -0.258819043636322, -0.258819043636322, -0.258819043636322], sess_et_month_sin_seq=[-0.8660253882408142, -0.8660253882408142, -0.8660253882408142, -0.8660253882408142, -0.8660253882408142, -0.8660253882408142, -0.8660253882408142, -0.8660253882408142, -0.8660253882408142, -0.8660253882408142], sess_et_month_cos_seq=[0.5, 0.5, 0.5, 0.5, 0.5, 0.5, 0.5, 0.5, 0.5, 0.5], sess_et_dayofweek_sin_seq=[0.7818315029144287, 0.7818315029144287, 0.7818315029144287, 0.7818315029144287, 0.7818315029144287, 0.7818315029144287, 0.7818315029144287, 0.7818315029144287, 0.7818315029144287, 0.7818315029144287], sess_et_dayofweek_cos_seq=[0.6234897971153259, 0.6234897971153259, 0.6234897971153259, 0.6234897971153259, 0.6234897971153259, 0.6234897971153259, 0.6234897971153259, 0.6234897971153259, 0.6234897971153259, 0.6234897971153259], sess_et_dayofmonth_sin_seq=[0.4853019714355469, 0.4853019714355469, 0.4853019714355469, 0.4853019714355469, 0.4853019714355469, 0.4853019714355469, 0.4853019714355469, 0.4853019714355469, 0.4853019714355469, 0.4853019714355469], sess_et_dayofmonth_cos_seq=[-0.8743466138839722, -0.8743466138839722, -0.8743466138839722, -0.8743466138839722, -0.8743466138839722, -0.8743466138839722, -0.8743466138839722, -0.8743466138839722, -0.8743466138839722, -0.8743466138839722], sess_session_reversed_order_seq=[1, 1, 1, 1, 1, 1, 1, 1, 1, 1, 1, 1, 1, 1, 1, 1, 1, 1, 1, 1], bef_sess_pid_seq=[54829, 16557, 26200, 12655, 19659, 47379, 190, 193, 1089, 5764, 6277, 14956, 24040, 16068, 796, 2015, 4038, 48264, 27656, 30595], bef_sess_etime_seq=[1570379174, 1570379227, 1570379279, 1570379469, 1570379561, 1570379631, 1570518089, 1570518094, 1570687571, 1570703946, 1570704129, 1570704181, 1570704539, 1570704665, 1570789818, 1570896659, 1570896754, 1570896975, 1570897028, 1570942772], bef_sess_etype_seq=[2, 2, 2, 2, 2, 2, 2, 2, 2, 2, 2, 2, 2, 2, 2, 2, 2, 2, 2, 2], bef_sess_csid_seq=[122, 122, 122, 68, 68, 68, 2, 2, 2, 102, 102, 102, 102, 102, 48, 38, 38, 38, 38, 2], bef_sess_ccid_seq=[62, 62, 62, 20, 20, 20, 2, 2, 2, 51, 51, 51, 51, 51, 29, 5, 5, 5, 5, 2], bef_sess_bid_seq=[78, 78, 3446, 78, 78, 370, 2, 2, 3446, 111, 107, 22, 22, 111, 2, 114, 114, 37, 12, 10], bef_sess_price_log_seq=[-0.9371101260185242, -1.033877968788147, 0.8012940883636475, -0.6758571863174438, -0.6758571863174438, -0.8971045613288879, 0.37291771173477173, 1.3184895515441895, -3.9464786052703857, -0.37678152322769165, -0.8674012422561646, -0.8114442825317383, -0.5493293404579163, -0.3546951115131378, -0.11088141053915024, -1.092561960220337, -1.092561960220337, -0.5518258810043335, -0.8150743842124939, 0.19077567756175995], bef_sess_dtime_secs_seq=[346543.0], bef_sess_dtime_secs_log_norm_seq=[2.2829840183258057], bef_sess_prod_recency_days_seq=[30.585752487182617], bef_sess_prod_recency_days_log_norm_seq=[1.2031309604644775], bef_sess_relative_price_to_avg_category_seq=[-0.2851194143295288, -0.3692518472671509, 5.555794715881348, -0.2990398108959198, -0.2990398108959198, -0.47273513674736023, -0.536506712436676, 0.534846842288971, -1.0, -0.41560912132263184, -0.6885503530502319, -0.6652631759643555, -0.5313294529914856, -0.39889177680015564, 0.09879733622074127, -0.608660101890564, -0.608660101890564, -0.21447649598121643, -0.43978676199913025, -0.6321750283241272], bef_sess_et_hour_sin_seq=[-0.8660253882408142, -0.8660253882408142, -0.8660253882408142, -0.8660253882408142, -0.8660253882408142, -0.8660253882408142, 0.9659258127212524, 0.9659258127212524, 1.0, 0.5, 0.5, 0.5, 0.5, 0.5, 0.5, -0.8660253882408142, -0.8660253882408142, -0.8660253882408142, -0.8660253882408142, 0.8660253882408142], bef_sess_et_hour_cos_seq=[-0.5, -0.5, -0.5, -0.5, -0.5, -0.5, -0.258819043636322, -0.258819043636322, -2.6179938217296694e-09, -0.8660253882408142, -0.8660253882408142, -0.8660253882408142, -0.8660253882408142, -0.8660253882408142, -0.8660253882408142, -0.5, -0.5, -0.5, -0.5, 0.5], bef_sess_et_month_sin_seq=[-0.8660253882408142, -0.8660253882408142, -0.8660253882408142, -0.8660253882408142, -0.8660253882408142, -0.8660253882408142, -0.8660253882408142, -0.8660253882408142, -0.8660253882408142, -0.8660253882408142, -0.8660253882408142, -0.8660253882408142, -0.8660253882408142, -0.8660253882408142, -0.8660253882408142, -0.8660253882408142, -0.8660253882408142, -0.8660253882408142, -0.8660253882408142, -0.8660253882408142], bef_sess_et_month_cos_seq=[0.5, 0.5, 0.5, 0.5, 0.5, 0.5, 0.5, 0.5, 0.5, 0.5, 0.5, 0.5, 0.5, 0.5, 0.5, 0.5, 0.5, 0.5, 0.5, 0.5], bef_sess_et_dayofweek_sin_seq=[0.7818315029144287, 0.7818315029144287, 0.7818315029144287, 0.7818315029144287, 0.7818315029144287, 0.7818315029144287, 0.4338837265968323, 0.4338837265968323, -0.9749279022216797, -0.9749279022216797, -0.9749279022216797, -0.9749279022216797, -0.9749279022216797, -0.9749279022216797, -0.7818315029144287, 8.97597907112413e-09, 8.97597907112413e-09, 8.97597907112413e-09, 8.97597907112413e-09, 0.7818315029144287], bef_sess_et_dayofweek_cos_seq=[0.6234897971153259, 0.6234897971153259, 0.6234897971153259, 0.6234897971153259, 0.6234897971153259, 0.6234897971153259, -0.9009688496589661, -0.9009688496589661, -0.22252093255519867, -0.22252093255519867, -0.22252093255519867, -0.22252093255519867, -0.22252093255519867, -0.22252093255519867, 0.6234897971153259, 1.0, 1.0, 1.0, 1.0, 0.6234897971153259], bef_sess_et_dayofmonth_sin_seq=[0.9377521276473999, 0.9377521276473999, 0.9377521276473999, 0.9377521276473999, 0.9377521276473999, 0.9377521276473999, 0.9987165331840515, 0.9987165331840515, 0.8978045582771301, 0.8978045582771301, 0.8978045582771301, 0.8978045582771301, 0.8978045582771301, 0.8978045582771301, 0.790775716304779, 0.651372492313385, 0.651372492313385, 0.651372492313385, 0.651372492313385, 0.4853019714355469], bef_sess_et_dayofmonth_cos_seq=[0.3473052382469177, 0.3473052382469177, 0.3473052382469177, 0.3473052382469177, 0.3473052382469177, 0.3473052382469177, -0.05064916983246803, -0.05064916983246803, -0.44039416313171387, -0.44039416313171387, -0.44039416313171387, -0.44039416313171387, -0.44039416313171387, -0.44039416313171387, -0.6121059656143188, -0.7587581276893616, -0.7587581276893616, -0.7587581276893616, -0.7587581276893616, -0.8743466138839722], bef_sess_session_reversed_order_seq=[8, 8, 8, 8, 8, 8, 7, 7, 6, 5, 5, 5, 5, 5, 4, 3, 3, 3, 3, 2], session_start_date=datetime.date(2019, 10, 13)),\n",
       " Row(user_idx=512505241, user_session='5074830a-2dca-4d8d-83ca-6ac1c7a76135', session_start_ts=1570950014, sess_seq_len=3, bef_sess_seq_length=5, sess_pid_seq=[5397, 5061, 5617], sess_etime_seq=[1570950014, 1570950203, 1570950217], sess_etype_seq=[2, 2, 2], sess_csid_seq=[208, 208, 208], sess_ccid_seq=[85, 85, 85], sess_bid_seq=[249, 249, 249], sess_price_log_norm_seq=[0.44211423676419415, 0.08562865547527937, 0.19090332630441492], sess_dtime_secs_seq=[311453, 189, 14], sess_dtime_secs_log_norm_seq=[2.252412272808673, 0.13275125454159442, -0.5943193212099357], sess_prod_recency_days_seq=[12.089074074074073, 12.16636574074074, 12.144201388888888], sess_prod_recency_days_log_norm_seq=[0.12381907883843236, 0.1310326615780607, 0.12896841621604369], sess_relative_price_to_avg_category_seq=[0.615118998907848, 0.027237762160386817, 0.17423979384006183], sess_et_hour_sin_seq=[0.9659258127212524, 0.9659258127212524, 0.9659258127212524], sess_et_hour_cos_seq=[-0.258819043636322, -0.258819043636322, -0.258819043636322], sess_et_month_sin_seq=[-0.8660253882408142, -0.8660253882408142, -0.8660253882408142], sess_et_month_cos_seq=[0.5, 0.5, 0.5], sess_et_dayofweek_sin_seq=[0.7818315029144287, 0.7818315029144287, 0.7818315029144287], sess_et_dayofweek_cos_seq=[0.6234897971153259, 0.6234897971153259, 0.6234897971153259], sess_et_dayofmonth_sin_seq=[0.4853019714355469, 0.4853019714355469, 0.4853019714355469], sess_et_dayofmonth_cos_seq=[-0.8743466138839722, -0.8743466138839722, -0.8743466138839722], sess_session_reversed_order_seq=[1, 1, 1, 1, 1, 1, 1, 1, 1, 1, 1, 1, 1, 1, 1, 1, 1, 1, 1, 1], bef_sess_pid_seq=[731, 5911, 182, 175, 963], bef_sess_etime_seq=[1569907204, 1569907260, 1570590552, 1570590583, 1570638561], bef_sess_etype_seq=[2, 2, 2, 2, 2], bef_sess_csid_seq=[81, 258, 11, 11, 11], bef_sess_ccid_seq=[128, 43, 3, 3, 3], bef_sess_bid_seq=[8, 9, 3, 3, 3], bef_sess_price_log_seq=[0.4492376446723938, 1.1577792167663574, 1.141814112663269, 0.8983646631240845, 0.9103543162345886], bef_sess_dtime_secs_seq=[783443.0], bef_sess_dtime_secs_log_norm_seq=[2.516568183898926], bef_sess_prod_recency_days_seq=[13.499675750732422], bef_sess_prod_recency_days_log_norm_seq=[0.2492162436246872], bef_sess_relative_price_to_avg_category_seq=[-0.04740540310740471, 0.7550073266029358, 0.8470804691314697, 0.3573133945465088, 0.3780718147754669], bef_sess_et_hour_sin_seq=[0.9659258127212524, 0.9659258127212524, 0.7071067690849304, 0.7071067690849304, -0.8660253882408142], bef_sess_et_hour_cos_seq=[0.258819043636322, 0.258819043636322, 0.7071067690849304, 0.7071067690849304, -0.5], bef_sess_et_month_sin_seq=[-0.8660253882408142, -0.8660253882408142, -0.8660253882408142, -0.8660253882408142, -0.8660253882408142], bef_sess_et_month_cos_seq=[0.5, 0.5, 0.5, 0.5, 0.5], bef_sess_et_dayofweek_sin_seq=[0.4338837265968323, 0.4338837265968323, -0.43388375639915466, -0.43388375639915466, -0.43388375639915466], bef_sess_et_dayofweek_cos_seq=[-0.9009688496589661, -0.9009688496589661, -0.9009688496589661, -0.9009688496589661, -0.9009688496589661], bef_sess_et_dayofmonth_sin_seq=[0.2012985199689865, 0.2012985199689865, 0.9680771231651306, 0.9680771231651306, 0.9680771231651306], bef_sess_et_dayofmonth_cos_seq=[0.9795299172401428, 0.9795299172401428, -0.2506525218486786, -0.2506525218486786, -0.2506525218486786], bef_sess_session_reversed_order_seq=[4, 4, 3, 3, 2], session_start_date=datetime.date(2019, 10, 13)),\n",
       " Row(user_idx=512512370, user_session='7a09b3e8-c85c-4085-8ae1-e5a51279df2f', session_start_ts=1570950461, sess_seq_len=4, bef_sess_seq_length=10, sess_pid_seq=[17, 1953, 277, 52], sess_etime_seq=[1570950461, 1570950585, 1570950630, 1570950937], sess_etype_seq=[2, 2, 2, 2], sess_csid_seq=[2, 2, 2, 2], sess_ccid_seq=[2, 2, 2, 2], sess_bid_seq=[3, 3, 3, 3], sess_price_log_norm_seq=[1.4841640189485263, 1.1640015689099503, 1.1167838606175438, 1.2365308601744531], sess_dtime_secs_seq=[429048, 124, 45, 307], sess_dtime_secs_log_norm_seq=[2.344140222055858, 0.012847710945233879, -0.2734224049795846, 0.2710867211630193], sess_prod_recency_days_seq=[12.295798611111111, 11.498634259259259, 12.297743055555555, 12.204791666666667], sess_prod_recency_days_log_norm_seq=[0.14301824204164584, 0.06726580753033332, 0.1431974081039543, 0.13460318466852023], sess_relative_price_to_avg_category_seq=[0.892594172695216, 0.26239201709681437, 0.18918480879941912, 0.38370170817446914], sess_et_hour_sin_seq=[0.9659258127212524, 0.9659258127212524, 0.9659258127212524, 0.9659258127212524], sess_et_hour_cos_seq=[-0.258819043636322, -0.258819043636322, -0.258819043636322, -0.258819043636322], sess_et_month_sin_seq=[-0.8660253882408142, -0.8660253882408142, -0.8660253882408142, -0.8660253882408142], sess_et_month_cos_seq=[0.5, 0.5, 0.5, 0.5], sess_et_dayofweek_sin_seq=[0.7818315029144287, 0.7818315029144287, 0.7818315029144287, 0.7818315029144287], sess_et_dayofweek_cos_seq=[0.6234897971153259, 0.6234897971153259, 0.6234897971153259, 0.6234897971153259], sess_et_dayofmonth_sin_seq=[0.4853019714355469, 0.4853019714355469, 0.4853019714355469, 0.4853019714355469], sess_et_dayofmonth_cos_seq=[-0.8743466138839722, -0.8743466138839722, -0.8743466138839722, -0.8743466138839722], sess_session_reversed_order_seq=[1, 1, 1, 1, 1, 1, 1, 1, 1, 1, 1, 1, 1, 1, 1, 1, 1, 1, 1, 1], bef_sess_pid_seq=[8, 19, 438, 276, 65, 833, 632, 2466, 895, 60067], bef_sess_etime_seq=[1570110165, 1570110316, 1570110407, 1570110527, 1570110569, 1570520682, 1570520751, 1570520935, 1570520960, 1570521413], bef_sess_etype_seq=[2, 2, 2, 2, 2, 2, 2, 2, 2, 2], bef_sess_csid_seq=[2, 2, 2, 2, 2, 36, 36, 36, 36, 338], bef_sess_ccid_seq=[2, 2, 2, 2, 2, 128, 128, 128, 128, 128], bef_sess_bid_seq=[3, 3, 3, 3, 3, 3446, 25, 3446, 3446, 3446], bef_sess_price_log_seq=[0.9132125377655029, 1.10019052028656, 0.9321359395980835, 1.087585210800171, 1.0954548120498657, -0.005753418430685997, 0.5706415772438049, 0.5195451974868774, 0.6864606142044067, -0.0017276251455768943], bef_sess_dtime_secs_seq=[1092751.0], bef_sess_dtime_secs_log_norm_seq=[2.6118571758270264], bef_sess_prod_recency_days_seq=[23.584699630737305], bef_sess_prod_recency_days_log_norm_seq=[0.8961184620857239], bef_sess_relative_price_to_avg_category_seq=[-0.08090467005968094, 0.1644776314496994, -0.058622486889362335, 0.1460515856742859, 0.15752065181732178, -0.4484892785549164, 0.14633119106292725, 0.0744415894150734, 0.327528178691864, -0.21952258050441742], bef_sess_et_hour_sin_seq=[-0.258819043636322, -0.258819043636322, -0.258819043636322, -0.258819043636322, -0.258819043636322, 0.9659258127212524, 0.9659258127212524, 0.9659258127212524, 0.9659258127212524, 0.9659258127212524], bef_sess_et_hour_cos_seq=[-0.9659258127212524, -0.9659258127212524, -0.9659258127212524, -0.9659258127212524, -0.9659258127212524, -0.258819043636322, -0.258819043636322, -0.258819043636322, -0.258819043636322, -0.258819043636322], bef_sess_et_month_sin_seq=[-0.8660253882408142, -0.8660253882408142, -0.8660253882408142, -0.8660253882408142, -0.8660253882408142, -0.8660253882408142, -0.8660253882408142, -0.8660253882408142, -0.8660253882408142, -0.8660253882408142], bef_sess_et_month_cos_seq=[0.5, 0.5, 0.5, 0.5, 0.5, 0.5, 0.5, 0.5, 0.5, 0.5], bef_sess_et_dayofweek_sin_seq=[-0.9749279022216797, -0.9749279022216797, -0.9749279022216797, -0.9749279022216797, -0.9749279022216797, 0.4338837265968323, 0.4338837265968323, 0.4338837265968323, 0.4338837265968323, 0.4338837265968323], bef_sess_et_dayofweek_cos_seq=[-0.22252093255519867, -0.22252093255519867, -0.22252093255519867, -0.22252093255519867, -0.22252093255519867, -0.9009688496589661, -0.9009688496589661, -0.9009688496589661, -0.9009688496589661, -0.9009688496589661], bef_sess_et_dayofmonth_sin_seq=[0.5712682008743286, 0.5712682008743286, 0.5712682008743286, 0.5712682008743286, 0.5712682008743286, 0.9987165331840515, 0.9987165331840515, 0.9987165331840515, 0.9987165331840515, 0.9987165331840515], bef_sess_et_dayofmonth_cos_seq=[0.8207634687423706, 0.8207634687423706, 0.8207634687423706, 0.8207634687423706, 0.8207634687423706, -0.05064916983246803, -0.05064916983246803, -0.05064916983246803, -0.05064916983246803, -0.05064916983246803], bef_sess_session_reversed_order_seq=[3, 3, 3, 3, 3, 2, 2, 2, 2, 2], session_start_date=datetime.date(2019, 10, 13))]"
      ]
     },
     "execution_count": 142,
     "metadata": {},
     "output_type": "execute_result"
    }
   ],
   "source": [
    "check_df.take(10)"
   ]
  },
  {
   "cell_type": "code",
   "execution_count": 143,
   "metadata": {},
   "outputs": [
    {
     "data": {
      "text/plain": [
       "3929658"
      ]
     },
     "execution_count": 143,
     "metadata": {},
     "output_type": "execute_result"
    }
   ],
   "source": [
    "check_df.count()"
   ]
  }
 ],
 "metadata": {
  "kernelspec": {
   "display_name": "Python 3",
   "language": "python",
   "name": "python3"
  },
  "language_info": {
   "codemirror_mode": {
    "name": "ipython",
    "version": 3
   },
   "file_extension": ".py",
   "mimetype": "text/x-python",
   "name": "python",
   "nbconvert_exporter": "python",
   "pygments_lexer": "ipython3",
   "version": "3.7.9"
  }
 },
 "nbformat": 4,
 "nbformat_minor": 4
}
