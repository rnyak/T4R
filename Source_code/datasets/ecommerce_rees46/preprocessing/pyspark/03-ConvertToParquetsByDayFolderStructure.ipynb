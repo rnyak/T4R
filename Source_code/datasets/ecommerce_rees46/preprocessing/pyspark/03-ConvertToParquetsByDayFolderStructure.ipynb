{
 "cells": [
  {
   "cell_type": "code",
   "execution_count": 35,
   "metadata": {},
   "outputs": [],
   "source": [
    "import pandas as pd\n",
    "import os\n",
    "import gc\n",
    "from datetime import date, timedelta, datetime"
   ]
  },
  {
   "cell_type": "code",
   "execution_count": 36,
   "metadata": {},
   "outputs": [],
   "source": [
    "INPUT_PATH = '/home/gmoreira/dataset/ecommerce_dataset/ecommerce_preproc_v5/with_repetitions'\n",
    "OUTPUT_PATH = '/home/gmoreira/dataset/ecommerce_dataset/ecommerce_preproc_v5/with_repetitions_day_folders'\n",
    "!mkdir -p $OUTPUT_PATH"
   ]
  },
  {
   "cell_type": "code",
   "execution_count": 37,
   "metadata": {},
   "outputs": [],
   "source": [
    "INITIAL_DATE = \"2019-10-01\"\n",
    "FINAL_DATE = \"2019-10-31\""
   ]
  },
  {
   "cell_type": "code",
   "execution_count": 38,
   "metadata": {},
   "outputs": [],
   "source": [
    "TRAIN_FILE_PATTERN = \"session_start_date=*-train.parquet\"\n",
    "VALID_FILE_PATTERN = \"session_start_date=*-valid.parquet\"\n",
    "TEST_FILE_PATTERN = \"session_start_date=*-test.parquet\""
   ]
  },
  {
   "cell_type": "code",
   "execution_count": 39,
   "metadata": {},
   "outputs": [],
   "source": [
    "def get_avail_data_dates(start_date, end_date, date_format=\"%Y-%m-%d\"):\n",
    "    end_date = datetime.strptime(end_date, date_format)\n",
    "    start_date = datetime.strptime(start_date, date_format)\n",
    "\n",
    "    delta = end_date - start_date\n",
    "\n",
    "    avail_dates = []\n",
    "    for i in range(delta.days + 1):\n",
    "        day = start_date + timedelta(days=i)\n",
    "        avail_dates.append(day)\n",
    "\n",
    "    return avail_dates"
   ]
  },
  {
   "cell_type": "code",
   "execution_count": 40,
   "metadata": {},
   "outputs": [
    {
     "data": {
      "text/plain": [
       "['2019-10-01',\n",
       " '2019-10-02',\n",
       " '2019-10-03',\n",
       " '2019-10-04',\n",
       " '2019-10-05',\n",
       " '2019-10-06',\n",
       " '2019-10-07',\n",
       " '2019-10-08',\n",
       " '2019-10-09',\n",
       " '2019-10-10',\n",
       " '2019-10-11',\n",
       " '2019-10-12',\n",
       " '2019-10-13',\n",
       " '2019-10-14',\n",
       " '2019-10-15',\n",
       " '2019-10-16',\n",
       " '2019-10-17',\n",
       " '2019-10-18',\n",
       " '2019-10-19',\n",
       " '2019-10-20',\n",
       " '2019-10-21',\n",
       " '2019-10-22',\n",
       " '2019-10-23',\n",
       " '2019-10-24',\n",
       " '2019-10-25',\n",
       " '2019-10-26',\n",
       " '2019-10-27',\n",
       " '2019-10-28',\n",
       " '2019-10-29',\n",
       " '2019-10-30',\n",
       " '2019-10-31']"
      ]
     },
     "execution_count": 40,
     "metadata": {},
     "output_type": "execute_result"
    }
   ],
   "source": [
    "datesstr_list = [date.strftime(\"%Y-%m-%d\") for date in get_avail_data_dates(INITIAL_DATE, FINAL_DATE)]\n",
    "datesstr_list"
   ]
  },
  {
   "cell_type": "code",
   "execution_count": 41,
   "metadata": {},
   "outputs": [],
   "source": [
    "def copy_file(input_folder, input_file_pattern, date_str, output_folder, output_filename):\n",
    "    old_path = os.path.join(input_folder, input_file_pattern.replace('*', date_str))\n",
    "    new_path = os.path.join(output_folder, output_filename)\n",
    "    !cp $old_path $new_path"
   ]
  },
  {
   "cell_type": "code",
   "execution_count": 42,
   "metadata": {},
   "outputs": [
    {
     "name": "stdout",
     "output_type": "stream",
     "text": [
      "2019-10-01\n",
      "2019-10-02\n",
      "2019-10-03\n",
      "2019-10-04\n",
      "2019-10-05\n",
      "2019-10-06\n",
      "2019-10-07\n",
      "2019-10-08\n",
      "2019-10-09\n",
      "2019-10-10\n",
      "2019-10-11\n",
      "2019-10-12\n",
      "2019-10-13\n",
      "2019-10-14\n",
      "2019-10-15\n",
      "2019-10-16\n",
      "2019-10-17\n",
      "2019-10-18\n",
      "2019-10-19\n",
      "2019-10-20\n",
      "2019-10-21\n",
      "2019-10-22\n",
      "2019-10-23\n",
      "2019-10-24\n",
      "2019-10-25\n",
      "2019-10-26\n",
      "2019-10-27\n",
      "2019-10-28\n",
      "2019-10-29\n",
      "2019-10-30\n",
      "2019-10-31\n",
      "cp: cannot create regular file '/home/gmoreira/dataset/ecommerce_dataset/ecommerce_preproc_v5/with_repetitions_day_folders/0031/train.parquet': No such file or directory\n",
      "cp: cannot create regular file '/home/gmoreira/dataset/ecommerce_dataset/ecommerce_preproc_v5/with_repetitions_day_folders/0031/valid.parquet': No such file or directory\n",
      "cp: cannot create regular file '/home/gmoreira/dataset/ecommerce_dataset/ecommerce_preproc_v5/with_repetitions_day_folders/0031/test.parquet': No such file or directory\n"
     ]
    }
   ],
   "source": [
    "for idx, date_str in enumerate(datesstr_list):\n",
    "    print(date_str)\n",
    "    day_output_path = os.path.join(OUTPUT_PATH, f\"{idx+1:04}\")\n",
    "    os.makedirs(days_files_path, exist_ok=True)\n",
    "    \n",
    "    copy_file(INPUT_PATH, TRAIN_FILE_PATTERN, date_str, day_output_path, 'train.parquet')\n",
    "    copy_file(INPUT_PATH, VALID_FILE_PATTERN, date_str, day_output_path, 'valid.parquet')\n",
    "    copy_file(INPUT_PATH, TEST_FILE_PATTERN, date_str, day_output_path, 'test.parquet')"
   ]
  },
  {
   "cell_type": "code",
   "execution_count": null,
   "metadata": {},
   "outputs": [],
   "source": []
  },
  {
   "cell_type": "code",
   "execution_count": null,
   "metadata": {},
   "outputs": [],
   "source": []
  }
 ],
 "metadata": {
  "kernelspec": {
   "display_name": "Python 3",
   "language": "python",
   "name": "python3"
  },
  "language_info": {
   "codemirror_mode": {
    "name": "ipython",
    "version": 3
   },
   "file_extension": ".py",
   "mimetype": "text/x-python",
   "name": "python",
   "nbconvert_exporter": "python",
   "pygments_lexer": "ipython3",
   "version": "3.7.9"
  }
 },
 "nbformat": 4,
 "nbformat_minor": 4
}
